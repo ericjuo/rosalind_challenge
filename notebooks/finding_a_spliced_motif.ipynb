{
 "cells": [
  {
   "cell_type": "markdown",
   "metadata": {},
   "source": [
    "Given: Two DNA strings s and t (each of length at most 1 kbp) in FASTA format.  \n",
    "\n",
    "Return: One collection of indices of s in which the symbols of t appear as a subsequence of s. If multiple solutions exist, you may return any one. \n",
    "\n"
   ]
  },
  {
   "cell_type": "code",
   "execution_count": 3,
   "metadata": {},
   "outputs": [],
   "source": [
    "def find_spliced_motif(s, t):\n",
    "    indices = []\n",
    "    coordin = 0\n",
    "    for i in t:\n",
    "        idx = s[coordin:].find(i)\n",
    "        if idx != -1:\n",
    "            coordin += idx + 1\n",
    "            indices.append(coordin)\n",
    "    print(' '.join([str(x) for x in indices]))"
   ]
  },
  {
   "cell_type": "code",
   "execution_count": 4,
   "metadata": {},
   "outputs": [
    {
     "name": "stdout",
     "output_type": "stream",
     "text": [
      "3 4 5\n"
     ]
    }
   ],
   "source": [
    "# Try sample dataset\n",
    "s = 'ACGTACGTGACG'\n",
    "t = 'GTA'\n",
    "find_spliced_motif(s, t)"
   ]
  },
  {
   "cell_type": "code",
   "execution_count": 6,
   "metadata": {},
   "outputs": [
    {
     "name": "stdout",
     "output_type": "stream",
     "text": [
      "2 10 11 16 17 20 26 29 33 38 46 48 49 61 72 79 80 85 88 90 94 95 96 100 101 102 104 105 108 111 120 121 123 126 133 134 142 144 145 151 158 161 162 163 166 172 189 190 193 200 210 211 216 226 234 238 243 252 254 256 262 270 274 278 279 282 284 291 293 296 305 314 321 322 325 327 333 334 339 346 352 357\n"
     ]
    }
   ],
   "source": [
    "# Try Rosalind random dataset\n",
    "from Bio import SeqIO\n",
    "with open(\"../data/raw/rosalind_sseq.txt\", 'r') as f:\n",
    "    s, t = list(SeqIO.parse(f, 'fasta'))\n",
    "    find_spliced_motif(s.seq, t.seq)\n",
    "    "
   ]
  },
  {
   "cell_type": "code",
   "execution_count": null,
   "metadata": {},
   "outputs": [],
   "source": []
  }
 ],
 "metadata": {
  "interpreter": {
   "hash": "60e0f06e9c19250195fd113ab3ae6c151ef4fe60d8fc1c24602aafeb11dae2b6"
  },
  "kernelspec": {
   "display_name": "Python 3.9.7 ('base')",
   "language": "python",
   "name": "python3"
  },
  "language_info": {
   "codemirror_mode": {
    "name": "ipython",
    "version": 3
   },
   "file_extension": ".py",
   "mimetype": "text/x-python",
   "name": "python",
   "nbconvert_exporter": "python",
   "pygments_lexer": "ipython3",
   "version": "3.9.7"
  },
  "orig_nbformat": 4
 },
 "nbformat": 4,
 "nbformat_minor": 2
}
