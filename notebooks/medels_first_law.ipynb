{
 "cells": [
  {
   "cell_type": "code",
   "execution_count": 3,
   "metadata": {},
   "outputs": [],
   "source": [
    "import sys\n",
    "sys.path.append(\"..\")\n",
    "from rosalind_tools.config import *\n",
    "import numpy as np"
   ]
  },
  {
   "cell_type": "markdown",
   "metadata": {},
   "source": [
    "Given: Three positive integers k, m, and n, representing a population containing k+m+n organisms: k individuals are homozygous dominant for a factor, m are heterozygous, and n are homozygous recessive.\n",
    "\n",
    "Return: The probability that two randomly selected mating organisms will produce an individual possessing a dominant allele (and thus displaying the dominant phenotype). Assume that any two organisms can mate."
   ]
  },
  {
   "cell_type": "code",
   "execution_count": 21,
   "metadata": {},
   "outputs": [],
   "source": [
    "def prob_domin(k, m, n):\n",
    "    # dominant allel matrix\n",
    "    #    k    m     n\n",
    "    # k 1.0  1.0   1.0\n",
    "    # m 1.0  0.75  0.5\n",
    "    # n 1.0  0.5  0\n",
    "    \n",
    "    # probability of random two organisms\n",
    "    #      k     m      n\n",
    "    # k  k(k-1)  km     kn\n",
    "    # m  mk      m(m-1) mn      / total (total -1)\n",
    "    # n  nk      nm     n(n-1)\n",
    "    total = sum((k, m, n))\n",
    "    two_org_mtx = np.array([[k*(k-1), k*m, k*n], [m*k, m*(m-1), m*n], [n*k, n*m, n*(n-1)]]) / (total * (total -1))\n",
    "    domin_mtx = np.array([[1, 1, 1], [1, 0.75, 0.5], [1, 0.5, 0]])\n",
    "    p_domin = np.sum(domin_mtx * two_org_mtx)\n",
    "    print(p_domin)\n",
    "    return"
   ]
  },
  {
   "cell_type": "code",
   "execution_count": 22,
   "metadata": {},
   "outputs": [
    {
     "name": "stdout",
     "output_type": "stream",
     "text": [
      "0.7833333333333333\n"
     ]
    }
   ],
   "source": [
    "# Try sample dataset\n",
    "k, m, n = 2, 2, 2\n",
    "prob_domin(k, m, n)"
   ]
  },
  {
   "cell_type": "code",
   "execution_count": 24,
   "metadata": {},
   "outputs": [
    {
     "name": "stdout",
     "output_type": "stream",
     "text": [
      "0.7441256830601093\n"
     ]
    }
   ],
   "source": [
    "# Try rosalind dataset\n",
    "with open(data_dir/\"rosalind_iprb.txt\", 'r') as f:\n",
    "    k, m, n = tuple(map(int, f.readline().strip().split(' ')))\n",
    "    prob_domin(k, m, n)"
   ]
  },
  {
   "cell_type": "code",
   "execution_count": null,
   "metadata": {},
   "outputs": [],
   "source": []
  }
 ],
 "metadata": {
  "kernelspec": {
   "display_name": "Python 3",
   "language": "python",
   "name": "python3"
  },
  "language_info": {
   "codemirror_mode": {
    "name": "ipython",
    "version": 3
   },
   "file_extension": ".py",
   "mimetype": "text/x-python",
   "name": "python",
   "nbconvert_exporter": "python",
   "pygments_lexer": "ipython3",
   "version": "3.7.4"
  }
 },
 "nbformat": 4,
 "nbformat_minor": 4
}
