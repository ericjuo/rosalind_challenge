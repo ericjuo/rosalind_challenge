{
 "cells": [
  {
   "cell_type": "code",
   "execution_count": 2,
   "metadata": {},
   "outputs": [],
   "source": [
    "import sys\n",
    "sys.path.append(\"..\")\n",
    "from rosalind_tools.config import *\n",
    "from rosalind_tools.utils import parse_fasta, rc_DNA"
   ]
  },
  {
   "cell_type": "markdown",
   "metadata": {},
   "source": [
    "Given: A DNA string of length at most 1 kbp in FASTA format.\n",
    "\n",
    "Return: The position and length of every reverse palindrome in the string having length between 4 and 12. You may return these pairs in any order.  "
   ]
  },
  {
   "cell_type": "code",
   "execution_count": 29,
   "metadata": {},
   "outputs": [],
   "source": [
    "def restrict_sites(seq: str):\n",
    "    # length of restriction site ranges between 4 and 12\n",
    "    len_restr_sites = list(range(12, 3, -1))\n",
    "    sites = []\n",
    "    # iterate through length of 12 to 4\n",
    "    for l in len_restr_sites:\n",
    "        # iterate through the whole sequence with leaps l\n",
    "        for i in range(len(seq) - l + 1):\n",
    "            if seq[i:i+l] == rc_DNA(seq[i:i+l]):\n",
    "                sites.append((i + 1, l))\n",
    "    for s in sites:\n",
    "        i, l = s\n",
    "        print(i, l)"
   ]
  },
  {
   "cell_type": "code",
   "execution_count": 30,
   "metadata": {},
   "outputs": [
    {
     "name": "stdout",
     "output_type": "stream",
     "text": [
      "4 6\n",
      "6 6\n",
      "20 6\n",
      "5 4\n",
      "7 4\n",
      "17 4\n",
      "18 4\n",
      "21 4\n"
     ]
    }
   ],
   "source": [
    "# Try sample dataset\n",
    "seq = 'TCAATGCATGCGGGTCTATATGCAT'\n",
    "restrict_sites(seq)\n"
   ]
  },
  {
   "cell_type": "code",
   "execution_count": 31,
   "metadata": {},
   "outputs": [
    {
     "name": "stdout",
     "output_type": "stream",
     "text": [
      "490 12\n",
      "491 10\n",
      "33 8\n",
      "479 8\n",
      "492 8\n",
      "811 8\n",
      "822 8\n",
      "3 6\n",
      "24 6\n",
      "34 6\n",
      "258 6\n",
      "293 6\n",
      "345 6\n",
      "389 6\n",
      "396 6\n",
      "480 6\n",
      "493 6\n",
      "502 6\n",
      "533 6\n",
      "576 6\n",
      "691 6\n",
      "753 6\n",
      "756 6\n",
      "812 6\n",
      "823 6\n",
      "863 6\n",
      "1 4\n",
      "4 4\n",
      "6 4\n",
      "25 4\n",
      "32 4\n",
      "35 4\n",
      "59 4\n",
      "82 4\n",
      "95 4\n",
      "100 4\n",
      "103 4\n",
      "115 4\n",
      "156 4\n",
      "157 4\n",
      "161 4\n",
      "177 4\n",
      "180 4\n",
      "184 4\n",
      "190 4\n",
      "208 4\n",
      "220 4\n",
      "225 4\n",
      "241 4\n",
      "246 4\n",
      "257 4\n",
      "259 4\n",
      "280 4\n",
      "287 4\n",
      "294 4\n",
      "301 4\n",
      "346 4\n",
      "373 4\n",
      "377 4\n",
      "386 4\n",
      "390 4\n",
      "397 4\n",
      "403 4\n",
      "411 4\n",
      "464 4\n",
      "481 4\n",
      "484 4\n",
      "494 4\n",
      "503 4\n",
      "534 4\n",
      "542 4\n",
      "577 4\n",
      "593 4\n",
      "631 4\n",
      "685 4\n",
      "692 4\n",
      "711 4\n",
      "714 4\n",
      "754 4\n",
      "757 4\n",
      "761 4\n",
      "766 4\n",
      "783 4\n",
      "792 4\n",
      "813 4\n",
      "819 4\n",
      "824 4\n",
      "864 4\n",
      "872 4\n",
      "873 4\n",
      "897 4\n",
      "915 4\n",
      "916 4\n",
      "920 4\n",
      "950 4\n",
      "987 4\n"
     ]
    }
   ],
   "source": [
    "# Try Rosalind dataset\n",
    "with open(data_dir/\"rosalind_revp.txt\", 'r') as f:\n",
    "    record, = parse_fasta(f)\n",
    "    restrict_sites(record.seq)"
   ]
  },
  {
   "cell_type": "code",
   "execution_count": null,
   "metadata": {},
   "outputs": [],
   "source": []
  }
 ],
 "metadata": {
  "kernelspec": {
   "display_name": "Python 3",
   "language": "python",
   "name": "python3"
  },
  "language_info": {
   "codemirror_mode": {
    "name": "ipython",
    "version": 3
   },
   "file_extension": ".py",
   "mimetype": "text/x-python",
   "name": "python",
   "nbconvert_exporter": "python",
   "pygments_lexer": "ipython3",
   "version": "3.7.4"
  }
 },
 "nbformat": 4,
 "nbformat_minor": 4
}
