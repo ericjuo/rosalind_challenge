{
 "cells": [
  {
   "cell_type": "code",
   "execution_count": 72,
   "metadata": {},
   "outputs": [],
   "source": [
    "import sys\n",
    "sys.path.append(\"..\")\n",
    "from rosalind_tools.config import *\n",
    "from typing import List\n",
    "from bisect import bisect_left"
   ]
  },
  {
   "cell_type": "markdown",
   "metadata": {},
   "source": [
    "Given: A positive integer n≤10000 followed by a permutation π of length n.\n",
    "\n",
    "Return: A longest increasing subsequence of π, followed by a longest decreasing subsequence of π.  "
   ]
  },
  {
   "cell_type": "markdown",
   "metadata": {},
   "source": [
    "# Solution was modified from Stack Overflow\n",
    "Oringal post: https://stackoverflow.com/questions/3992697/longest-increasing-subsequence(https://stackoverflow.com/questions/3992697/longest-increasing-subsequence)"
   ]
  },
  {
   "cell_type": "code",
   "execution_count": 70,
   "metadata": {},
   "outputs": [],
   "source": [
    "def lis(n: int, pi: List[int]) -> List[int]:\n",
    "    # Let j be the result (index) of binary search seq[i] on\n",
    "    # the current increasing subsequence.\n",
    "    # M is a list storing the smallest value found in seq with\n",
    "    # increasing order.\n",
    "    # P is a list storing the index of the previous element of\n",
    "    # seq.\n",
    "    M = [None] * n\n",
    "    P = [None] * n\n",
    "    \n",
    "    # L is the current length of increasing subsquence.\n",
    "    # For any non-empty list, the shortest length of longest \n",
    "    # increasing subsequnece is 1. So, L = 1\n",
    "    L = 1\n",
    "    \n",
    "    # initiate M[0] as 0 => the last element of length 1 of the \n",
    "    # increasing subsequence is at index 1 of the seq\n",
    "    M[0] = 0\n",
    "    for i in range(1, n):\n",
    "        # Binary search: find the largest j, for all j <=L, \n",
    "        # such that seq[M[j]] < seq[i], \n",
    "        lo = 0\n",
    "        hi = L\n",
    "        # Since the binary search will not look at the upper bound\n",
    "        # value. We'll have to check manually\n",
    "        if pi[M[hi -1]] < pi[i]:\n",
    "            j = hi\n",
    "        else:\n",
    "            while hi - lo > 1:\n",
    "                mid = (hi + lo) // 2\n",
    "                if pi[M[mid - 1]] < pi[i]:\n",
    "                    lo = mid\n",
    "                else:\n",
    "                    hi = mid\n",
    "            j = lo\n",
    "        P[i] = M[j-1]\n",
    "        if j == L or pi[i] < pi[M[j]]:\n",
    "            M[j] = i\n",
    "            L = max(L, j + 1)\n",
    "    result = []\n",
    "    pos = M[L-1]\n",
    "    for _ in range(L):\n",
    "        result.append(pi[pos])\n",
    "        pos = P[pos]\n",
    "    return result[::-1]\n",
    "        \n",
    "def lds(n: int, pi: List[int]) -> List[int]:\n",
    "    \n",
    "    M = [None] * n\n",
    "    P = [None] * n\n",
    "    L = 1\n",
    "    M[0] = 0\n",
    "    for i in range(1, n):\n",
    "        lo = 0\n",
    "        hi = L\n",
    "        if pi[M[hi - 1]] > pi[i]:\n",
    "            j = hi\n",
    "        else:\n",
    "            while hi - lo > 1:\n",
    "                mid = (hi + lo) // 2\n",
    "                if pi[M[mid - 1]] > pi[i]:\n",
    "                    lo = mid\n",
    "                else:\n",
    "                    hi = mid\n",
    "            j = lo\n",
    "        P[i] = M[j - 1]\n",
    "        if j == L or pi[i] > pi[M[j]]:\n",
    "            M[j] = i\n",
    "            L = max(L, j + 1)\n",
    "    result = []\n",
    "    pos = M[L - 1]\n",
    "    for _ in range(L):\n",
    "        result.append(pi[pos])\n",
    "        pos = P[pos]\n",
    "    return result[::-1]"
   ]
  },
  {
   "cell_type": "code",
   "execution_count": 71,
   "metadata": {},
   "outputs": [
    {
     "name": "stdout",
     "output_type": "stream",
     "text": [
      "[1, 2, 3]\n",
      "[5, 4, 3]\n"
     ]
    }
   ],
   "source": [
    "# Try sample dataset\n",
    "n = 5\n",
    "pi = [5, 1, 4, 2, 3]\n",
    "print(lis(n, pi))\n",
    "print(lds(n, pi))"
   ]
  },
  {
   "cell_type": "code",
   "execution_count": 76,
   "metadata": {},
   "outputs": [
    {
     "name": "stdout",
     "output_type": "stream",
     "text": [
      "37 157 172 333 586 787 883 1242 1249 1340 1355 1392 1434 1476 1533 1628 1797 1862 1876 1904 1926 1972 2103 2383 2450 2512 2568 2587 2588 2714 2724 2833 2875 2888 2922 3201 3216 3242 3256 3352 3389 3392 3398 3516 3525 3533 3592 3600 3629 3674 3707 3726 3735 3825 3830 3838 3897 3930 4001 4039 4073 4085 4104 4175 4203 4230 4304 4309 4368 4388 4408 4439 4513 4546 4609 4643 4679 4708 4769 4770 4837 4841 4942 5045 5147 5191 5217 5259 5260 5311 5365 5388 5397 5454 5465 5540 5684 5697 5805 5903 5932 5998 6039 6111 6124 6161 6220 6227 6228 6241 6248 6257 6383 6412 6436 6441 6460 6461 6477 6495 6504 6511 6516 6527 6549 6586 6625 6640 6660 6665 6685 6688 6774 6854 6886 6900 6998 7091 7114 7148 7168 7433 7622 7623 7708 7737 7748 7848 7902 7937 7960 8037 8077 8177 8257 8289 8290 8295 8368 8395 8486 8523 8538 8596 8627 8683 8736 8775 8786 8823 8970 9007 9031 9038 9068 9103 9109 9111 9124 9125 9181 9204 9207 9238\n",
      "9236 9226 9148 9058 9015 9012 8967 8928 8920 8867 8843 8765 8750 8722 8675 8634 8598 8589 8580 8560 8494 8331 8256 8114 8046 8036 7978 7972 7881 7816 7753 7675 7631 7501 7486 7452 7399 7362 7333 7323 7309 7249 7224 7213 7187 7052 7049 7040 7033 6974 6965 6911 6893 6862 6855 6823 6719 6632 6622 6561 6531 6499 6486 6474 6440 6427 6409 6406 6381 6310 6299 6154 6124 6094 6001 5982 5968 5820 5787 5676 5660 5508 5475 5283 5281 5273 5204 5122 4977 4947 4681 4680 4613 4480 4454 4395 4324 4274 4082 4071 3977 3822 3790 3784 3665 3655 3518 3463 3403 3380 3378 3226 3154 3000 2993 2908 2894 2840 2826 2772 2720 2701 2665 2653 2595 2580 2579 2564 2519 2348 2237 2148 1971 1938 1822 1804 1749 1666 1642 1531 1508 1485 1455 1432 1397 1375 1307 1305 1295 1284 1282 1197 1193 1186 1150 1053 996 956 921 862 776 762 659 597 572 570 564 516 402 386 343 340 339 303 241 220 208 110 107 92 64\n"
     ]
    }
   ],
   "source": [
    "# Try Rosalind dataset\n",
    "with open(data_dir/\"rosalind_lgis.txt\", 'r') as f:\n",
    "    n = int(f.readline().rstrip())\n",
    "    pi = f.readline().rstrip().split()\n",
    "    pi = [int(p) for p in pi]\n",
    "    inc = lis(n, pi)\n",
    "    drc = lds(n, pi)\n",
    "    print(*inc)\n",
    "    print(*drc)"
   ]
  },
  {
   "cell_type": "code",
   "execution_count": null,
   "metadata": {},
   "outputs": [],
   "source": []
  }
 ],
 "metadata": {
  "kernelspec": {
   "display_name": "Python 3",
   "language": "python",
   "name": "python3"
  },
  "language_info": {
   "codemirror_mode": {
    "name": "ipython",
    "version": 3
   },
   "file_extension": ".py",
   "mimetype": "text/x-python",
   "name": "python",
   "nbconvert_exporter": "python",
   "pygments_lexer": "ipython3",
   "version": "3.7.4"
  }
 },
 "nbformat": 4,
 "nbformat_minor": 4
}
