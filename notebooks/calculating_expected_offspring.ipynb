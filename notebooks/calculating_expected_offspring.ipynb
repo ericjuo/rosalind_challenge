{
 "cells": [
  {
   "cell_type": "code",
   "execution_count": 3,
   "metadata": {},
   "outputs": [],
   "source": [
    "import sys\n",
    "sys.path.append(\"..\")\n",
    "from rosalind_tools.config import *\n",
    "from typing import List"
   ]
  },
  {
   "cell_type": "markdown",
   "metadata": {},
   "source": [
    "Given: Six nonnegative integers, each of which does not exceed 20,000. The integers correspond to the number of couples in a population possessing each genotype pairing for a given factor. In order, the six given integers represent the number of couples having the following genotypes:\n",
    "\n",
    "1. AA-AA\n",
    "2. AA-Aa\n",
    "3. AA-aa\n",
    "4. Aa-Aa\n",
    "5. Aa-aa\n",
    "6. aa-aa  \n",
    "Return: The expected number of offspring displaying the dominant phenotype in the next generation, under the assumption that every couple has exactly two offspring."
   ]
  },
  {
   "cell_type": "code",
   "execution_count": 8,
   "metadata": {},
   "outputs": [],
   "source": [
    "def expected_offspring(couples: List[int]) -> int:\n",
    "    # probablity of offspring displaying the dominant phenotype from genotypes of couples listed above\n",
    "    # [AA-AA, AA-Aa, AA-aa, Aa-Aa, Aa-aa, aa-aa]\n",
    "    prob = [1.00, 1.00, 1.00, 0.75, 0.5, 0.00]\n",
    "    expected = 0\n",
    "    for n, p in zip(couples, prob):\n",
    "        expected += n * p\n",
    "    print(expected * 2)\n",
    "    return \n",
    "    "
   ]
  },
  {
   "cell_type": "code",
   "execution_count": 9,
   "metadata": {},
   "outputs": [
    {
     "name": "stdout",
     "output_type": "stream",
     "text": [
      "3.5\n"
     ]
    }
   ],
   "source": [
    "# Try sample dataset\n",
    "data = '1 0 0 1 0 1'\n",
    "couples = map(int, data.split(' '))\n",
    "expected_offspring(couples)"
   ]
  },
  {
   "cell_type": "code",
   "execution_count": 10,
   "metadata": {},
   "outputs": [
    {
     "name": "stdout",
     "output_type": "stream",
     "text": [
      "152383.5\n"
     ]
    }
   ],
   "source": [
    "# Try Rosalind dataset\n",
    "with open(data_dir/\"rosalind_iev.txt\", 'r') as f:\n",
    "    couples = map(int, f.readline().rstrip().split(' '))\n",
    "    expected_offspring(couples)"
   ]
  },
  {
   "cell_type": "code",
   "execution_count": null,
   "metadata": {},
   "outputs": [],
   "source": []
  }
 ],
 "metadata": {
  "kernelspec": {
   "display_name": "Python 3",
   "language": "python",
   "name": "python3"
  },
  "language_info": {
   "codemirror_mode": {
    "name": "ipython",
    "version": 3
   },
   "file_extension": ".py",
   "mimetype": "text/x-python",
   "name": "python",
   "nbconvert_exporter": "python",
   "pygments_lexer": "ipython3",
   "version": "3.7.4"
  }
 },
 "nbformat": 4,
 "nbformat_minor": 4
}
