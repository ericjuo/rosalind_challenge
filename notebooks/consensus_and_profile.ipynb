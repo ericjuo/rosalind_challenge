{
 "cells": [
  {
   "cell_type": "code",
   "execution_count": 9,
   "metadata": {},
   "outputs": [],
   "source": [
    "import sys\n",
    "sys.path.append(\"..\")\n",
    "from rosalind_tools.config import *\n",
    "from rosalind_tools.utils import parse_fasta, Record\n",
    "from typing import Type, List"
   ]
  },
  {
   "cell_type": "markdown",
   "metadata": {},
   "source": [
    "Given: A collection of at most 10 DNA strings of equal length (at most 1 kbp) in FASTA format.\n",
    "\n",
    "Return: A consensus string and profile matrix for the collection. (If several possible consensus strings exist, then you may return any one of them.)"
   ]
  },
  {
   "cell_type": "code",
   "execution_count": 22,
   "metadata": {},
   "outputs": [],
   "source": [
    "def consensus(records: List[Record]) -> str:\n",
    "    seq = np.array([[r.upper() for r in record.seq] for record in records])\n",
    "    (h , w) = seq.shape\n",
    "    # Create counting tables with default zeros.\n",
    "    nucleobase_table = np.zeros((4, w), dtype=int)\n",
    "    # A 0 ... 0\n",
    "    # C 0 ... 0\n",
    "    # G 0 ... 0\n",
    "    # T 0 ... 0\n",
    "    # iterate through columns\n",
    "    for j in range(w):\n",
    "        # iterate through rows\n",
    "        for i in range(h):\n",
    "            if seq[i, j] == 'A':\n",
    "                nucleobase_table[0, j] += 1\n",
    "            elif seq[i, j] == 'C':\n",
    "                nucleobase_table[1, j] += 1\n",
    "            elif seq[i, j] == 'G':\n",
    "                nucleobase_table[2, j] += 1\n",
    "            elif seq[i, j] == 'T':\n",
    "                nucleobase_table[3, j] += 1\n",
    "            else:\n",
    "                continue\n",
    "    consensus = ''\n",
    "    for j in range(w):\n",
    "        if np.max(nucleobase_table[:,j]) == nucleobase_table[0, j]:\n",
    "            consensus += 'A'\n",
    "        elif np.max(nucleobase_table[:,j]) == nucleobase_table[1, j]:\n",
    "            consensus += 'C'\n",
    "        elif np.max(nucleobase_table[:,j]) == nucleobase_table[2, j]:\n",
    "            consensus += 'G'\n",
    "        else:\n",
    "            consensus += 'T'\n",
    "    print(consensus)\n",
    "    print('A: %s' % ' '.join(list(map(str, nucleobase_table[0]))))\n",
    "    print('C: %s' % ' '.join(list(map(str, nucleobase_table[1]))))\n",
    "    print('G: %s' % ' '.join(list(map(str, nucleobase_table[2]))))\n",
    "    print('T: %s' % ' '.join(list(map(str, nucleobase_table[3]))))\n",
    "    return\n",
    "    "
   ]
  },
  {
   "cell_type": "code",
   "execution_count": 23,
   "metadata": {},
   "outputs": [
    {
     "name": "stdout",
     "output_type": "stream",
     "text": [
      "ATGCAACT\n",
      "A: 5 1 0 0 5 5 0 0\n",
      "C: 0 0 1 4 2 0 6 1\n",
      "G: 1 1 6 3 0 1 0 0\n",
      "T: 1 5 0 0 0 1 1 6\n"
     ]
    }
   ],
   "source": [
    "# Try sample dataset\n",
    "with open(data_dir/\"test_fasta2.txt\", 'r') as f:\n",
    "    records = parse_fasta(f)\n",
    "    consensus(records)"
   ]
  },
  {
   "cell_type": "code",
   "execution_count": 25,
   "metadata": {},
   "outputs": [
    {
     "name": "stdout",
     "output_type": "stream",
     "text": [
      "GTCAGAGGAACTTTAAGCCCACATTAAAACACAGGCCGGCCACAGTAAATGGTAGAGCCCGAATTGCGCCCAATTATCCAAGAGCGAGATCAAATTATGTACCTACCTAGATAACAAAAAACTAAATCCTCCCGATCTGGGTGCTCAAACAAGCGACGGGAAACCCGCCCTACAGAAAAACCCTTTCACCACCAGGTCCAAACACCGGAAACAAACGGTCATTCCTTCACCGCCGGCACATAGCCCGCGAAGCCAGTTCGAGCCTTGAACCAAAAACACAGGCTAGGGCCAGCCGCGTGTAAGGTGGTCTCTTCATATCTCAATGCACATTAGTGCGTTGATAAAGGCCGCTCCCATGGGAACAAAACCGCCGATAAACCGATTCCACAAACAGCATTTTAGCCGCCGTTCGTCCGACGACAGTAACGGTGAGGAAATCATAGCAACAAGCAACGGCCAAATGAGGACCACTTCTCCGCGGGACGCCTGACTACGCATTCTCGCTGAATGGAGACCCGCAAACCGGACGCCGGTGGCCATTAACCTGCAGCTAGAGCAAAAGCCTCGACTACATTGGTCGGACGGGAGCTAAGAACAAGGTAGAGTGGGGTCAATGTGCAATTCAGATACTGTGAACCCGCAACCACCCAGAAGGAGATTCACAGGGGTCGATCGAATATATAAGTGTCATGCTAGCTTCAGTGATACTGAACTTACGGCGCGGATTAATGGCCGCAGGAGCAATCCTCCTCACTCACCCTCTGAGGAATGATTATCTAAGCATCACAGACAAACGGCGTTAGGACTCCAATCCTTCGGGTGTACTCTTTGTTAACGCAAAACTCCAATAACATAAAAGGTCCCCAAGCGACATACCTGGCACGAATAATTACACGCTGGACCGACGAATGCGGTATCCTGCGTCAATCCATCACGTTGCGCTCAGCAAGCCCGCGAACCGCAAATTCAGTTCAAATAGTCAATTCC\n",
      "A: 2 3 2 3 2 3 1 3 5 6 1 1 3 3 4 6 2 2 1 2 4 2 6 1 2 6 5 3 4 1 6 2 3 2 2 1 2 2 1 2 1 3 2 3 2 2 5 4 4 2 1 3 2 4 2 3 2 2 2 1 2 4 4 1 2 2 1 1 2 2 1 3 3 2 1 3 3 1 2 4 3 2 3 3 2 2 4 2 4 2 2 3 3 3 2 2 5 1 2 3 3 2 2 0 4 1 3 1 4 1 4 1 4 3 1 4 4 3 4 5 6 3 2 4 3 4 2 2 2 1 1 2 0 2 4 2 1 1 2 2 0 2 3 2 2 1 3 4 6 3 4 3 1 2 3 3 2 2 1 2 6 3 5 2 2 3 2 2 2 2 2 4 2 4 2 4 4 6 4 4 1 1 2 1 1 2 2 4 1 3 4 1 1 4 1 2 2 1 3 4 3 4 1 4 2 1 2 2 3 5 3 2 4 4 3 3 3 2 1 2 4 1 2 3 2 2 1 2 5 2 1 1 2 2 3 2 2 4 3 5 2 4 1 2 1 1 1 1 3 5 4 3 3 0 4 2 0 3 0 2 3 3 2 2 1 0 2 4 5 2 2 4 3 3 3 5 3 3 2 4 3 3 2 1 6 2 3 2 4 3 4 3 2 1 1 2 0 1 1 1 5 5 3 2 2 2 2 3 0 2 3 3 1 3 5 2 3 3 0 2 2 4 3 3 2 1 5 0 5 0 2 4 3 3 4 1 0 3 1 0 5 3 6 6 4 3 3 3 3 3 2 2 3 1 2 5 3 3 3 3 3 4 2 3 4 4 3 2 1 1 3 2 1 4 2 4 4 4 0 2 2 4 1 2 2 3 3 2 3 3 3 2 5 2 1 3 1 2 3 2 3 3 3 3 1 3 0 2 2 4 2 1 1 4 2 1 3 1 1 4 1 4 2 0 5 3 2 1 3 1 2 4 3 3 3 4 5 2 2 3 1 3 2 2 6 3 1 4 3 1 2 6 4 0 2 1 3 2 7 4 4 1 1 4 2 2 4 2 3 5 1 0 3 3 1 2 1 2 3 1 2 1 6 0 1 2 1 1 2 4 1 2 5 1 1 0 5 2 2 2 2 2 2 2 0 1 4 3 2 0 2 4 2 3 1 1 4 3 1 4 3 5 2 2 3 3 4 1 0 2 3 3 3 2 3 2 2 3 8 1 2 5 3 0 1 2 2 1 5 2 2 1 4 2 5 2 1 5 4 4 4 2 1 2 2 1 2 4 1 0 3 1 3 1 1 1 1 3 3 3 1 4 1 1 2 2 3 1 1 1 4 3 3 5 3 0 6 4 3 2 2 3 1 3 1 1 2 2 2 1 3 2 3 5 2 1 3 2 1 5 4 1 3 2 3 2 3 3 6 1 1 1 3 2 5 4 2 0 2 2 2 3 6 2 2 4 3 2 1 3 1 4 4 2 1 3 2 3 2 2 0 3 1 5 2 1 2 1 2 2 1 3 3 3 1 4 4 1 5 2 5 2 4 4 1 3 2 3 1 4 2 2 3 2 4 2 0 0 3 1 5 3 3 0 5 2 4 1 2 3 3 5 1 2 0 3 0 1 3 3 3 1 3 1 6 0 2 3 3 1 0 3 1 1 0 2 4 2 3 4 3 3 3 4 1 1 1 3 2 2 3 3 3 2 2 1 3 2 2 2 2 0 2 2 6 3 2 4 3 2 3 3 2 1 4 1 1 3 3 3 1 1 3 2 1 4 2 5 1 3 2 4 3 5 1 2 2 2 0 1 1 3 3 0 4 2 1 2 1 3 5 1 3 3 1 3 2 3 3 1 0 3 2 3 2 0 1 2 1 2 2 1 3 4 4 1 2 2 3 4 3 3 2 3 2 2 4 4 3 4 4 1 4 3 3 5 4 5 2 0 2 2 2 1 2 4 5 3 2 3 4 2 5 1 4 0 3 2 3 2 2 6 2 2 4 4 2 4 4 4 2 3 2 5 0 1 2 3 2 3 3 3 2 2 5 2 1 3 4 3 0 1 0 1 1 4 3 3 1 3 0 0 1 2 3 3 3 1 1 2 5 0 2 6 2 3 1 2 4 1 2 2 2 3 3 1 3 3 4 1 0 1 1 1 3 3 3 3 3 2 1 2 4 4 5 3 1 2 3 2 2 1 1 3 3 3 1 4 1 0 0 3 4 1 3 0 0\n",
      "C: 2 2 3 2 1 2 2 2 2 2 4 2 1 1 1 1 1 4 4 5 1 4 3 3 2 2 1 3 3 3 0 3 3 1 2 5 5 1 2 4 4 3 4 2 2 1 1 4 2 2 2 2 2 2 2 3 3 5 3 4 1 2 3 1 2 1 4 1 5 5 3 3 1 1 1 3 0 4 4 1 3 2 3 2 3 2 0 1 2 2 4 2 2 1 3 1 2 3 1 1 3 5 5 3 4 4 5 2 1 1 1 2 2 2 4 2 4 2 0 0 1 4 2 1 1 2 1 3 4 2 4 5 5 2 1 0 3 3 2 2 2 3 1 3 1 4 2 3 1 4 1 2 3 4 1 3 3 1 2 1 1 2 2 5 3 5 2 4 4 4 1 3 4 2 3 0 2 1 1 3 4 4 3 3 3 2 4 3 7 4 0 3 4 1 3 1 3 6 4 2 2 0 4 3 3 3 2 2 2 0 2 4 1 1 2 4 2 2 3 5 1 3 2 4 5 2 2 3 1 4 6 2 3 3 0 2 5 2 6 2 2 2 1 4 4 5 3 3 1 1 2 0 4 4 1 2 2 1 7 1 2 2 4 5 3 3 1 3 2 5 3 1 3 3 3 2 5 3 3 4 2 2 5 2 2 1 1 2 5 4 2 1 6 4 3 4 2 3 2 2 1 4 2 1 2 2 2 1 4 2 4 3 2 5 4 2 2 1 5 3 3 3 2 1 1 4 1 5 3 3 3 2 0 1 1 5 3 1 3 2 2 1 1 3 2 1 2 4 4 2 4 2 5 4 4 0 3 0 1 0 1 2 4 3 3 3 3 3 5 3 4 5 3 2 1 1 2 1 5 4 2 4 2 3 4 5 2 4 2 2 2 4 3 2 4 1 2 1 0 1 3 2 5 4 1 4 4 2 3 1 3 2 2 5 4 2 3 4 1 2 4 1 2 2 2 2 4 4 2 1 2 2 0 1 3 1 1 1 3 3 3 1 2 6 1 3 4 1 3 2 4 0 2 6 3 2 4 3 0 2 1 1 1 2 2 3 3 4 4 0 5 4 1 4 2 3 6 2 5 2 1 1 1 5 3 5 5 3 2 1 4 2 0 4 2 4 1 2 2 3 0 6 3 5 3 2 1 2 1 3 1 1 2 3 6 6 6 3 4 1 3 2 3 3 3 1 3 4 4 3 5 1 1 2 2 1 5 4 0 3 1 2 2 4 7 3 2 5 2 2 5 2 1 1 1 2 4 2 2 2 2 0 4 4 2 3 2 4 5 1 3 5 3 2 2 2 2 0 6 2 2 3 4 1 3 2 2 2 6 3 2 2 1 0 3 6 1 3 1 2 2 3 2 3 1 2 1 0 2 1 0 3 2 1 2 2 0 2 7 2 2 2 2 3 1 2 3 1 1 3 3 3 1 0 2 1 4 5 4 0 5 1 1 3 3 2 4 4 4 3 2 1 1 2 2 3 1 1 2 2 5 3 5 3 2 1 2 3 3 5 2 2 2 4 1 0 3 3 2 0 0 1 3 3 3 1 2 0 4 1 0 1 4 2 1 2 4 2 2 4 3 2 2 3 2 2 1 4 3 2 2 1 4 2 0 3 6 2 2 4 1 4 1 3 2 3 2 3 1 3 2 2 3 5 2 5 2 2 2 3 2 4 1 3 2 4 4 2 4 4 1 5 2 5 2 5 2 4 5 3 1 5 1 2 1 0 2 2 3 2 0 2 2 2 1 3 5 3 2 3 1 5 3 2 4 1 4 2 0 2 3 1 3 1 4 3 2 3 3 3 1 2 2 4 3 4 3 3 5 3 0 1 4 4 2 1 3 0 1 3 3 3 3 1 4 3 5 1 1 0 2 0 2 0 1 5 2 4 3 1 3 2 3 0 4 4 3 1 1 2 2 6 1 1 3 1 3 3 2 1 2 5 4 4 3 1 2 2 5 0 0 3 1 3 2 5 5 1 1 2 6 1 5 2 1 2 2 2 2 0 1 3 3 2 4 3 4 2 1 1 2 5 3 1 1 3 3 2 2 3 2 4 2 1 3 2 1 4 4 1 2 6 2 0 4 2 2 4 4 4 1 2 4 0 4 1 2 3 1 3 2 3 0 4 3 2 4 2 3 3 6 5 5 1 4 1 3 3 4 4 1 4 2 2 3 3 1 4 3 1 2 1 4 1 2 3 3 3 1 3 4 1 2 3 2 6 6\n",
      "G: 4 1 3 2 4 2 4 4 1 1 3 3 1 2 3 2 6 2 1 1 1 3 0 2 2 1 1 3 1 3 1 2 1 5 3 3 2 5 4 3 1 1 1 3 3 2 2 0 2 2 6 5 2 3 5 2 4 3 3 2 5 4 2 2 1 4 3 4 1 2 3 3 3 1 2 1 3 4 1 2 2 3 2 4 2 4 2 4 2 2 2 2 3 3 1 3 2 0 6 2 2 2 1 3 1 3 0 3 2 4 1 2 1 2 3 2 1 2 2 4 2 1 1 3 3 1 2 2 0 3 2 0 4 4 4 3 3 2 3 5 5 1 4 2 3 2 2 1 2 1 1 2 6 0 4 2 3 6 4 4 2 3 2 1 3 1 4 2 2 2 2 3 1 1 5 4 3 2 2 1 1 2 2 2 0 2 2 0 2 0 2 3 3 2 5 4 1 2 2 1 2 3 3 2 2 3 3 5 2 4 2 2 2 4 3 1 4 4 2 2 1 2 1 2 3 1 2 2 2 1 2 4 3 2 5 5 2 1 0 1 2 2 5 2 1 3 4 3 4 2 4 5 3 3 3 4 3 1 0 5 2 4 2 2 2 3 5 1 1 0 3 3 2 2 1 1 0 2 3 1 4 4 2 3 2 4 4 3 1 2 3 4 1 2 5 1 6 2 4 3 2 1 4 4 1 3 3 2 2 1 3 0 2 1 0 2 3 2 3 0 2 3 2 2 4 1 0 3 1 3 1 2 4 2 5 3 5 2 2 5 0 2 2 0 2 4 4 0 2 4 2 2 0 4 3 1 0 4 4 4 3 3 2 1 0 1 2 3 1 4 0 3 5 2 3 3 2 1 1 2 3 0 1 1 3 2 3 3 3 2 2 3 1 4 4 3 2 2 1 1 3 4 1 2 5 1 3 5 1 0 3 4 3 0 3 4 2 2 4 4 3 1 3 2 2 3 1 5 5 3 5 3 4 4 1 3 4 3 2 1 2 3 5 1 1 1 3 3 2 5 3 1 2 2 4 6 3 3 3 4 3 3 6 1 4 5 3 3 2 3 3 1 2 1 2 3 2 4 1 4 5 4 2 1 5 2 1 1 3 4 3 2 3 2 5 3 1 1 1 3 3 2 4 0 3 5 1 3 3 4 5 2 5 2 1 1 0 4 2 3 2 1 3 2 4 5 2 4 5 3 2 5 4 0 4 5 0 1 1 2 3 2 3 2 2 1 3 2 1 4 2 2 4 5 1 3 2 1 2 2 1 4 3 2 1 3 3 2 1 4 2 2 2 2 1 4 6 3 1 4 4 2 1 4 4 5 3 4 1 2 0 3 4 2 2 2 2 1 4 3 2 3 4 2 6 2 5 5 3 6 3 2 3 4 2 4 2 4 1 0 2 3 1 3 3 3 2 2 0 3 1 5 1 6 0 2 2 3 0 5 1 3 3 3 2 2 2 1 2 3 4 3 1 4 4 1 5 3 2 1 2 2 1 1 4 6 4 5 1 1 6 2 0 2 6 3 2 2 1 3 3 3 2 1 5 1 4 3 4 4 2 4 0 1 3 3 2 3 1 3 2 4 1 4 0 2 4 3 1 5 3 0 3 0 4 1 2 4 4 3 4 2 5 4 2 3 1 2 3 2 5 5 3 2 5 1 1 4 4 1 4 2 3 1 3 3 2 1 2 3 1 1 3 2 2 1 3 1 2 2 3 0 3 4 3 4 4 3 2 0 4 2 2 2 1 2 3 0 3 1 5 1 3 2 3 4 4 2 5 3 3 1 2 1 2 4 3 2 5 2 3 3 4 5 1 3 2 2 2 3 3 1 1 1 3 2 3 5 4 4 1 4 1 3 1 3 2 3 3 3 4 4 1 3 3 1 4 2 3 1 2 3 3 3 4 2 2 2 2 1 0 2 2 2 2 2 3 1 3 8 2 0 2 2 3 3 2 5 1 4 3 3 4 2 1 4 1 2 4 4 2 1 2 3 2 1 1 3 0 0 3 1 3 3 2 4 2 1 4 4 3 1 3 5 0 3 4 2 1 0 5 1 5 4 2 2 2 1 4 1 5 4 6 2 1 3 2 0 2 1 1 3 1 3 3 4 3 1 5 3 4 3 3 0 2 4 2 3 1 4 2 1 2 8 1 4 2 3 0 2 4 2 3 2 2 0 2 0 2 5 2 3 3 3 2 3 2 3 6 3 3 3 0 1 1 0 2\n",
      "T: 2 4 2 3 3 3 3 1 2 1 2 4 5 4 2 1 1 2 4 2 4 1 1 4 4 1 3 1 2 3 3 3 3 2 3 1 1 2 3 1 4 3 3 2 3 5 2 2 2 4 1 0 4 1 1 2 1 0 2 3 2 0 1 6 5 3 2 4 2 1 3 1 3 6 6 3 4 1 3 3 2 3 2 1 3 2 4 3 2 4 2 3 2 3 4 4 1 6 1 4 2 1 2 4 1 2 2 4 3 4 4 5 3 3 2 2 1 3 4 1 1 2 5 2 3 3 5 3 4 4 3 3 1 2 1 5 3 4 3 1 3 4 2 3 4 3 3 2 1 2 4 3 0 4 2 2 2 1 3 3 1 2 1 2 2 1 2 2 2 2 5 0 3 3 0 2 1 1 3 2 4 3 3 4 6 4 2 3 0 3 4 3 2 3 1 3 4 1 1 3 3 3 2 1 3 3 3 1 3 1 3 2 3 1 2 2 1 2 4 1 4 4 5 1 0 5 5 3 2 3 1 3 2 3 2 1 1 3 1 2 4 2 3 2 4 1 2 3 2 2 0 2 0 3 2 2 5 5 3 2 3 1 2 1 4 4 2 2 2 3 2 2 2 2 3 2 2 2 2 1 1 1 1 4 0 3 2 3 0 1 1 2 1 3 1 3 2 4 3 4 2 0 1 3 5 3 3 4 4 5 0 4 5 1 1 4 2 4 2 5 3 0 3 4 3 4 4 2 1 4 4 2 3 4 0 1 2 4 4 3 3 4 1 1 2 2 1 3 1 1 2 4 2 1 1 4 4 3 2 3 3 1 2 3 3 2 2 2 3 2 3 0 1 2 4 2 2 4 4 2 3 2 6 4 1 0 2 1 2 3 3 1 1 2 1 3 5 5 6 6 1 1 1 1 3 2 3 1 4 5 2 3 4 1 1 3 2 3 4 0 2 4 3 6 1 2 3 0 0 5 1 1 3 2 3 2 0 4 3 3 4 3 1 1 2 3 2 2 2 2 1 3 2 2 1 1 0 2 0 0 2 5 2 3 2 0 0 1 1 2 1 5 4 2 5 2 1 2 1 3 2 4 1 4 1 1 3 5 3 1 2 4 2 3 2 3 3 5 5 2 5 0 1 3 4 2 4 2 4 3 2 3 1 2 2 2 0 0 3 2 2 2 2 3 0 1 1 1 1 2 0 1 2 6 1 2 3 2 1 4 4 1 2 4 0 4 3 2 2 2 1 5 1 2 3 3 3 2 2 2 3 4 2 2 5 3 3 0 3 5 2 2 2 5 6 3 1 4 0 1 3 1 4 4 1 1 2 3 2 4 4 2 2 3 2 2 1 2 2 3 4 1 3 2 2 5 2 3 3 2 4 3 2 0 4 3 5 2 1 3 2 4 4 2 3 3 2 4 3 3 5 1 5 2 3 3 2 2 4 3 2 3 0 2 3 2 1 3 3 1 3 2 4 2 3 3 2 3 4 5 3 2 3 1 2 2 2 1 4 2 1 3 5 1 2 3 1 4 2 5 2 4 1 2 1 5 2 4 1 1 6 3 3 5 2 3 4 5 4 2 0 1 4 3 3 4 1 2 4 0 2 4 2 6 6 3 2 3 1 0 2 3 1 2 0 4 5 2 3 4 3 0 3 2 3 2 3 2 1 2 1 1 3 2 4 2 3 4 2 1 5 1 2 1 4 3 2 3 1 3 4 5 4 2 0 3 2 1 2 6 3 3 4 5 4 4 1 4 2 3 3 3 1 4 2 1 0 1 4 2 2 4 2 3 3 1 3 3 2 4 5 2 1 1 2 1 4 3 2 1 2 7 2 2 4 4 2 2 2 2 6 0 4 3 3 4 2 4 5 5 2 5 4 3 2 3 2 2 1 4 2 2 2 4 0 2 1 3 4 3 4 1 3 4 2 2 0 1 3 1 4 3 2 3 2 2 1 0 2 3 3 2 0 4 3 1 1 5 2 2 0 2 1 3 3 3 5 1 4 6 4 3 2 0 4 2 2 4 3 2 2 1 2 2 4 2 2 3 3 4 3 4 3 4 4 2 4 2 1 5 3 0 1 6 2 2 3 5 3 3 3 5 3 1 1 2 4 4 0 3 2 2 5 3 2 3 1 2 2 2 2 3 2 0 2 2 2 1 3 2 4 2 1 2 0 4 6 4 2 2 4 5 2 3 3 1 4 0 2 4 3 3 4 5 4 4 2\n"
     ]
    }
   ],
   "source": [
    "# Try Rosalind dataset\n",
    "with open(data_dir/\"rosalind_cons.txt\", 'r') as f:\n",
    "    records = parse_fasta(f)\n",
    "    consensus(records)"
   ]
  },
  {
   "cell_type": "code",
   "execution_count": null,
   "metadata": {},
   "outputs": [],
   "source": []
  }
 ],
 "metadata": {
  "kernelspec": {
   "display_name": "Python 3",
   "language": "python",
   "name": "python3"
  },
  "language_info": {
   "codemirror_mode": {
    "name": "ipython",
    "version": 3
   },
   "file_extension": ".py",
   "mimetype": "text/x-python",
   "name": "python",
   "nbconvert_exporter": "python",
   "pygments_lexer": "ipython3",
   "version": "3.7.4"
  }
 },
 "nbformat": 4,
 "nbformat_minor": 4
}
