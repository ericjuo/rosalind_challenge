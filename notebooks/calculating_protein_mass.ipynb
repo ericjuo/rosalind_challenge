{
 "cells": [
  {
   "cell_type": "code",
   "execution_count": 19,
   "metadata": {},
   "outputs": [],
   "source": [
    "import sys\n",
    "sys.path.append(\"..\")\n",
    "from rosalind_tools.config import *\n",
    "import requests\n",
    "from pyquery import PyQuery as pq"
   ]
  },
  {
   "cell_type": "code",
   "execution_count": 16,
   "metadata": {},
   "outputs": [
    {
     "name": "stdout",
     "output_type": "stream",
     "text": [
      "{'A': 71.03711, 'C': 103.00919, 'D': 115.02694, 'E': 129.04259, 'F': 147.06841, 'G': 57.02146, 'H': 137.05891, 'I': 113.08406, 'K': 128.09496, 'L': 113.08406, 'M': 131.04049, 'N': 114.04293, 'P': 97.05276, 'Q': 128.05858, 'R': 156.10111, 'S': 87.03203, 'T': 101.04768, 'V': 99.06841, 'W': 186.07931, 'Y': 163.06333}\n"
     ]
    }
   ],
   "source": [
    "url = r'http://rosalind.info/glossary/monoisotopic-mass-table/'\n",
    "r = requests.get(url)\n",
    "d = pq(r.text)\n",
    "code_block = d('pre').html().strip()\n",
    "monoisotopic_mass_table = {}\n",
    "for i in code_block.split('\\n'):\n",
    "    record = i.split()\n",
    "    monoisotopic_mass_table[record[0]] = float(record[1])\n",
    "print(monoisotopic_mass_table)"
   ]
  },
  {
   "cell_type": "code",
   "execution_count": 17,
   "metadata": {},
   "outputs": [],
   "source": [
    "def protein_mass(protein_seq: str) -> int:\n",
    "    # Retrive monoisotopic mass table from Rosalind website\n",
    "    url = r'http://rosalind.info/glossary/monoisotopic-mass-table/'\n",
    "    r = requests.get(url)\n",
    "    d = pq(r.text)\n",
    "    code_block = d('pre').html().strip()\n",
    "    monoisotopic_mass_table = {}\n",
    "    for i in code_block.split('\\n'):\n",
    "        record = i.split()\n",
    "        monoisotopic_mass_table[record[0]] = float(record[1])\n",
    "    # initiate a variable recording protein mass\n",
    "    mass = 0\n",
    "    for aa in protein_seq:\n",
    "        mass += monoisotopic_mass_table[aa]\n",
    "    print(mass)"
   ]
  },
  {
   "cell_type": "code",
   "execution_count": 18,
   "metadata": {},
   "outputs": [
    {
     "name": "stdout",
     "output_type": "stream",
     "text": [
      "821.3919199999999\n"
     ]
    }
   ],
   "source": [
    "# Try sample dataset\n",
    "protein_seq = 'SKADYEK'\n",
    "protein_mass(protein_seq)"
   ]
  },
  {
   "cell_type": "code",
   "execution_count": 22,
   "metadata": {},
   "outputs": [
    {
     "name": "stdout",
     "output_type": "stream",
     "text": [
      "118044.5060800007\n"
     ]
    }
   ],
   "source": [
    "# Try Rosalind dataset\n",
    "with open(data_dir/\"rosalind_prtm.txt\", 'r') as f:\n",
    "    protein_seq = f.read().strip()\n",
    "    protein_mass(protein_seq)"
   ]
  },
  {
   "cell_type": "code",
   "execution_count": null,
   "metadata": {},
   "outputs": [],
   "source": []
  }
 ],
 "metadata": {
  "kernelspec": {
   "display_name": "Python 3",
   "language": "python",
   "name": "python3"
  },
  "language_info": {
   "codemirror_mode": {
    "name": "ipython",
    "version": 3
   },
   "file_extension": ".py",
   "mimetype": "text/x-python",
   "name": "python",
   "nbconvert_exporter": "python",
   "pygments_lexer": "ipython3",
   "version": "3.7.4"
  }
 },
 "nbformat": 4,
 "nbformat_minor": 4
}
