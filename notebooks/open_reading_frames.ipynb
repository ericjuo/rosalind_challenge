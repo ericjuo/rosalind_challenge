{
 "cells": [
  {
   "cell_type": "code",
   "execution_count": 1,
   "metadata": {},
   "outputs": [],
   "source": [
    "import sys\n",
    "sys.path.append(\"..\")\n",
    "from rosalind_tools.config import *\n",
    "from Bio.Data import CodonTable\n",
    "from rosalind_tools.utils import parse_fasta, translation, rc_DNA\n",
    "from typing import List\n",
    "import re"
   ]
  },
  {
   "cell_type": "markdown",
   "metadata": {},
   "source": [
    "Given: A DNA string s of length at most 1 kbp in FASTA format.\n",
    "\n",
    "Return: Every distinct candidate protein string that can be translated from ORFs of s. Strings can be returned in any order.  "
   ]
  },
  {
   "cell_type": "code",
   "execution_count": 2,
   "metadata": {},
   "outputs": [],
   "source": [
    "def orf(seq: str) -> str:\n",
    "    start_pattern = re.compile(r'(?=(ATG))')\n",
    "    protein_seq = []\n",
    "    for s in [seq, rc_DNA(seq)]:\n",
    "        index_start = [int(m.start()) for m in start_pattern.finditer(s)]\n",
    "        for i in index_start:\n",
    "            p = translation(s[i:])\n",
    "            # if translation function return None indicates it's truncated and not end with a stop codon.\n",
    "            if p != None:\n",
    "                protein_seq.append(p)\n",
    "    # print out only unique protein sequences\n",
    "    for p in set(protein_seq):\n",
    "        print(p)\n",
    "    return\n",
    "            \n",
    "    "
   ]
  },
  {
   "cell_type": "code",
   "execution_count": 3,
   "metadata": {},
   "outputs": [
    {
     "name": "stdout",
     "output_type": "stream",
     "text": [
      "MLLGSFRLIPKETLIQVAGSSPCNLS\n",
      "M\n",
      "MTPRLGLESLLE\n",
      "MGMTPRLGLESLLE\n"
     ]
    }
   ],
   "source": [
    "# Try sample dataset\n",
    "seq = 'AGCCATGTAGCTAACTCAGGTTACATGGGGATGACCCCGCGACTTGGATTAGAGTCTCTTTTGGAATAAGCCTGAATGATCCGAGTAGCATCTCAG'\n",
    "orf(seq)"
   ]
  },
  {
   "cell_type": "code",
   "execution_count": 4,
   "metadata": {},
   "outputs": [
    {
     "name": "stdout",
     "output_type": "stream",
     "text": [
      "MDGRAGLGCALGHPSRGGRTGANGGNYLYT\n",
      "MVAMRLPPDPGEFTLTITQPDLYSPATLNAVLPTKQGLHGKQGTTSCVFRKTVL\n",
      "MS\n",
      "M\n",
      "MPSFQQSKVYMGNKELPVASLEKLFCERS\n",
      "MGWPRLGRNARRK\n",
      "MVP\n",
      "MFLKYINSFLR\n",
      "MGNKELPVASLEKLFCERS\n",
      "MRWDCE\n",
      "MTSGQSSVAGLIPTEHKPNGLATAWKECPTEVTLDHK\n",
      "MYDRR\n",
      "MTCGTYSFSFT\n",
      "MLWYSYSCEDGWTCWARLCLGTPVKGRTHGS\n",
      "MDVLGSVVPWDTRQGADARELTEETIYILEEHL\n",
      "MLCWD\n",
      "MI\n",
      "MPDGSNVRS\n",
      "MIAANTRYTAD\n",
      "MRLPPDPGEFTLTITQPDLYSPATLNAVLPTKQGLHGKQGTTSCVFRKTVL\n",
      "MA\n",
      "MLTRINRVREEEVCLPATMTCGTYSFSFT\n",
      "MAPDGLTSITHNPTALAAPTTLAGSPLIVDLRASDCGSLMI\n",
      "MSPCYDDLWHLLLLVYLRYHPTLQGE\n",
      "MKDESLFICTEWLLCVFLQIQVNLR\n",
      "MSRYLFAQNGCYASSSRSR\n"
     ]
    }
   ],
   "source": [
    "# Try Rosalind dataset\n",
    "with open(data_dir/'rosalind_orf.txt', 'r') as f:\n",
    "    records = parse_fasta(f)\n",
    "    for record in records:\n",
    "        orf(record.seq)"
   ]
  },
  {
   "cell_type": "code",
   "execution_count": null,
   "metadata": {},
   "outputs": [],
   "source": []
  }
 ],
 "metadata": {
  "kernelspec": {
   "display_name": "Python 3",
   "language": "python",
   "name": "python3"
  },
  "language_info": {
   "codemirror_mode": {
    "name": "ipython",
    "version": 3
   },
   "file_extension": ".py",
   "mimetype": "text/x-python",
   "name": "python",
   "nbconvert_exporter": "python",
   "pygments_lexer": "ipython3",
   "version": "3.7.4"
  }
 },
 "nbformat": 4,
 "nbformat_minor": 4
}
