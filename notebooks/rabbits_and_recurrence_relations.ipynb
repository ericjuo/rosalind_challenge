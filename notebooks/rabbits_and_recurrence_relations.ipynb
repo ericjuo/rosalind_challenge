{
 "cells": [
  {
   "cell_type": "code",
   "execution_count": 1,
   "metadata": {},
   "outputs": [],
   "source": [
    "import sys\n",
    "sys.path.append('..')\n",
    "from rosalind_tools.config import *"
   ]
  },
  {
   "cell_type": "markdown",
   "metadata": {},
   "source": [
    "Given: Positive integers n≤40 and k≤5.\n",
    "\n",
    "Return: The total number of rabbit pairs that will be present after n months, if we begin with 1 pair and in each generation, every pair of reproduction-age rabbits produces a litter of k rabbit pairs (instead of only 1 pair)."
   ]
  },
  {
   "cell_type": "code",
   "execution_count": 14,
   "metadata": {},
   "outputs": [],
   "source": [
    "def fib(n: int, k: int) -> int:\n",
    "    f1, f2 = 1, 1 # The numbers of rabbits in the first two months are 1 and 1.\n",
    "\n",
    "    if n == 1: \n",
    "        return f1 \n",
    "    if n == 2:\n",
    "        return f2\n",
    " \n",
    "    for _ in range(2, n): # From the thrid month, the total numbers of rabbits is equal to F2 + F1 * k\n",
    "        total = f2 + f1 * k\n",
    "        f1 = f2\n",
    "        f2 = total\n",
    "\n",
    "    print(total)\n",
    "    return \n",
    "        "
   ]
  },
  {
   "cell_type": "code",
   "execution_count": 15,
   "metadata": {},
   "outputs": [
    {
     "name": "stdout",
     "output_type": "stream",
     "text": [
      "19\n"
     ]
    }
   ],
   "source": [
    "# Try sample dataset\n",
    "n, k = 5, 3\n",
    "fib(n, k)"
   ]
  },
  {
   "cell_type": "code",
   "execution_count": 17,
   "metadata": {},
   "outputs": [
    {
     "name": "stdout",
     "output_type": "stream",
     "text": [
      "18788331166609\n"
     ]
    }
   ],
   "source": [
    "with open(data_dir/'rosalind_fib.txt', 'r') as f:\n",
    "    content = f.read().split()\n",
    "    n, k = int(content[0]), int(content[1])\n",
    "    fib(n, k)"
   ]
  },
  {
   "cell_type": "code",
   "execution_count": null,
   "metadata": {},
   "outputs": [],
   "source": []
  }
 ],
 "metadata": {
  "kernelspec": {
   "display_name": "Python 3",
   "language": "python",
   "name": "python3"
  },
  "language_info": {
   "codemirror_mode": {
    "name": "ipython",
    "version": 3
   },
   "file_extension": ".py",
   "mimetype": "text/x-python",
   "name": "python",
   "nbconvert_exporter": "python",
   "pygments_lexer": "ipython3",
   "version": "3.7.4"
  }
 },
 "nbformat": 4,
 "nbformat_minor": 4
}
