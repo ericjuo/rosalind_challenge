{
 "cells": [
  {
   "cell_type": "code",
   "execution_count": 2,
   "metadata": {},
   "outputs": [],
   "source": [
    "import sys\n",
    "sys.path.append(\"..\")\n",
    "from rosalind_tools.config import *\n",
    "import re"
   ]
  },
  {
   "cell_type": "markdown",
   "metadata": {},
   "source": [
    "Given: Two DNA strings s and t (each of length at most 1 kbp).\n",
    "\n",
    "Return: All locations of t as a substring of s."
   ]
  },
  {
   "cell_type": "code",
   "execution_count": 10,
   "metadata": {},
   "outputs": [],
   "source": [
    "def index_substring(s, t):\n",
    "    # Adding \"?=\" to the substring search tells regex that \n",
    "    # the next match can use the characters from the previous match\n",
    "    pattern = re.compile('(?=(' + t + '))')\n",
    "    indexes = [str(m.start() + 1) for m in pattern.finditer(s)]\n",
    "    print(' '.join(indexes))"
   ]
  },
  {
   "cell_type": "code",
   "execution_count": 11,
   "metadata": {},
   "outputs": [
    {
     "name": "stdout",
     "output_type": "stream",
     "text": [
      "2 4 10\n"
     ]
    }
   ],
   "source": [
    "# Try sample dataset\n",
    "s = 'GATATATGCATATACTT'\n",
    "t = 'ATAT'\n",
    "index_substring(s, t)"
   ]
  },
  {
   "cell_type": "code",
   "execution_count": 16,
   "metadata": {},
   "outputs": [
    {
     "name": "stdout",
     "output_type": "stream",
     "text": [
      "9 41 113 120 192 224 239 254 276 305 339 360 383 405 511 570 594 619 648 712 719 726 733 753 786 793\n"
     ]
    }
   ],
   "source": [
    "# Try Rosalind dataset\n",
    "with open(data_dir/\"rosalind_subs.txt\", 'r') as f:\n",
    "    s = f.readline().strip()\n",
    "    t = f.readline().strip()\n",
    "    index_substring(s, t)"
   ]
  },
  {
   "cell_type": "code",
   "execution_count": null,
   "metadata": {},
   "outputs": [],
   "source": []
  }
 ],
 "metadata": {
  "kernelspec": {
   "display_name": "Python 3",
   "language": "python",
   "name": "python3"
  },
  "language_info": {
   "codemirror_mode": {
    "name": "ipython",
    "version": 3
   },
   "file_extension": ".py",
   "mimetype": "text/x-python",
   "name": "python",
   "nbconvert_exporter": "python",
   "pygments_lexer": "ipython3",
   "version": "3.7.4"
  }
 },
 "nbformat": 4,
 "nbformat_minor": 4
}
