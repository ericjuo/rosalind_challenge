{
 "cells": [
  {
   "cell_type": "code",
   "execution_count": 11,
   "metadata": {},
   "outputs": [],
   "source": [
    "import sys\n",
    "sys.path.append(\"..\")\n",
    "from rosalind_tools.config import *\n",
    "from rosalind_tools.utils import parse_fasta, Record\n",
    "import re\n",
    "from typing import TextIO, List\n",
    "import requests"
   ]
  },
  {
   "cell_type": "markdown",
   "metadata": {},
   "source": [
    "Given: At most 15 UniProt Protein Database access IDs.\n",
    "\n",
    "Return: For each protein possessing the N-glycosylation motif, output its given access ID followed by a list of locations in the protein string where the motif can be found.  "
   ]
  },
  {
   "cell_type": "code",
   "execution_count": 33,
   "metadata": {},
   "outputs": [],
   "source": [
    "# To parse text retrived from url\n",
    "def parse_text(r: str) -> Record:\n",
    "    lst = r.split('\\n')\n",
    "    record = {'name': lst[0].lstrip('>'),\n",
    "             'seq': ''.join(lst[1:])}\n",
    "    return Record(record)\n",
    "def find_n_glyco(record: Record) -> List[int]:\n",
    "    pattern = re.compile(r'(?=(N[^P][ST][^P]))')\n",
    "    pos = [m.start() + 1 for m in pattern.finditer(record.seq)]\n",
    "    return pos\n",
    "def n_glyco_motif(f: TextIO) -> str:\n",
    "    url = 'http://www.uniprot.org/uniprot/'\n",
    "    for line in f.readlines():\n",
    "        line = line.rstrip()\n",
    "        record_handle = requests.get(url+line+'.fasta').text\n",
    "        record = parse_text(record_handle)\n",
    "        pos = list(map(str, find_n_glyco(record)))\n",
    "        # print seq names only when motif found\n",
    "        if pos:\n",
    "            print(line.rstrip())\n",
    "            print(' '.join(pos))\n",
    "    return"
   ]
  },
  {
   "cell_type": "code",
   "execution_count": 34,
   "metadata": {},
   "outputs": [
    {
     "name": "stdout",
     "output_type": "stream",
     "text": [
      "B5ZC00\n",
      "85 118 142 306 395\n",
      "P07204_TRBM_HUMAN\n",
      "47 115 116 382 409\n",
      "P20840_SAG1_YEAST\n",
      "79 109 135 248 306 348 364 402 485 501 614\n"
     ]
    }
   ],
   "source": [
    "# Try sample dataset\n",
    "with open(data_dir/\"test_protein_motif.txt\", 'r') as f:\n",
    "    n_glyco_motif(f)"
   ]
  },
  {
   "cell_type": "code",
   "execution_count": 35,
   "metadata": {},
   "outputs": [
    {
     "name": "stdout",
     "output_type": "stream",
     "text": [
      "P80370_DLK_HUMAN\n",
      "100\n",
      "P00744_PRTZ_BOVIN\n",
      "59 191 289\n",
      "Q924A4\n",
      "74\n",
      "P47002\n",
      "35 552 608\n",
      "P12763_A2HS_BOVIN\n",
      "99 156 176\n",
      "Q181G8\n",
      "13 222 283\n",
      "P03415_VME1_CVMA5\n",
      "27\n",
      "P04233_HG2A_HUMAN\n",
      "130 136 256 270\n",
      "Q55AB5\n",
      "6\n",
      "Q8LCP6\n",
      "259 464 484\n",
      "B3ET80\n",
      "6\n",
      "P02974_FMM1_NEIGO\n",
      "67 68 121\n",
      "P11171_41_HUMAN\n",
      "258 281 358\n"
     ]
    }
   ],
   "source": [
    "# Try Rosalind dataset\n",
    "with open(data_dir/\"rosalind_mprt.txt\", 'r') as f:\n",
    "    n_glyco_motif(f)"
   ]
  },
  {
   "cell_type": "code",
   "execution_count": null,
   "metadata": {},
   "outputs": [],
   "source": []
  }
 ],
 "metadata": {
  "kernelspec": {
   "display_name": "Python 3",
   "language": "python",
   "name": "python3"
  },
  "language_info": {
   "codemirror_mode": {
    "name": "ipython",
    "version": 3
   },
   "file_extension": ".py",
   "mimetype": "text/x-python",
   "name": "python",
   "nbconvert_exporter": "python",
   "pygments_lexer": "ipython3",
   "version": "3.7.4"
  }
 },
 "nbformat": 4,
 "nbformat_minor": 4
}
