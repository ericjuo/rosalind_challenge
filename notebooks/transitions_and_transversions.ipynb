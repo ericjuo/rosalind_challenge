{
 "cells": [
  {
   "cell_type": "markdown",
   "metadata": {},
   "source": [
    "Given: Two DNA strings s1 and s2 of equal length (at most 1 kbp).  \n",
    "\n",
    "Return: The transition/transversion ratio R(s1,s2).  "
   ]
  },
  {
   "cell_type": "code",
   "execution_count": 2,
   "metadata": {},
   "outputs": [],
   "source": [
    "def test_transition(a, b):\n",
    "    transition_table = {\n",
    "        'A': 'G',\n",
    "        'G': 'A',\n",
    "        'C': 'T',\n",
    "        'T': 'C'\n",
    "    }\n",
    "    if b == transition_table[a]:\n",
    "        return True\n",
    "    else:\n",
    "        return False\n",
    "def test_transversion(a, b):\n",
    "    transversion_table = {\n",
    "        'A': ['C', 'T'],\n",
    "        'G': ['C', 'T'],\n",
    "        'C': ['A', 'G'],\n",
    "        'T': ['A', 'G']\n",
    "    }\n",
    "    if b in transversion_table[a]:\n",
    "        return True\n",
    "    else:\n",
    "        return False\n",
    "def transition_transversion(s1, s2):\n",
    "    num_transition = 0\n",
    "    num_transversion= 0\n",
    "    for i, j in zip(s1, s2):\n",
    "        if i != j:\n",
    "            if test_transition(i, j):\n",
    "                num_transition += 1\n",
    "            elif test_transversion(i, j):\n",
    "                num_transversion += 1\n",
    "            else:\n",
    "                print(\"Characters other than 'ATCG' detected\")\n",
    "    print(num_transition / num_transversion)\n",
    "\n",
    "        "
   ]
  },
  {
   "cell_type": "code",
   "execution_count": 3,
   "metadata": {},
   "outputs": [
    {
     "name": "stdout",
     "output_type": "stream",
     "text": [
      "1.2142857142857142\n"
     ]
    }
   ],
   "source": [
    "# Try sample dataset\n",
    "s1 = 'GCAACGCACAACGAAAACCCTTAGGGACTGGATTATTTCGTGATCGTTGTAGTTATTGGAAGTACGGGCATCAACCCAGTT'\n",
    "s2 = 'TTATCTGACAAAGAAAGCCGTCAACGGCTGGATAATTTCGCGATCGTGCTGGTTACTGGCGGTACGAGTGTTCCTTTGGGT'\n",
    "transition_transversion(s1, s2)"
   ]
  },
  {
   "cell_type": "code",
   "execution_count": 4,
   "metadata": {},
   "outputs": [
    {
     "name": "stdout",
     "output_type": "stream",
     "text": [
      "2.3733333333333335\n"
     ]
    }
   ],
   "source": [
    "# Try Rosalind random dataset\n",
    "from Bio import SeqIO\n",
    "with open(\"../data/raw/rosalind_tran.txt\", 'r') as f:\n",
    "    s1, s2 = list(SeqIO.parse(f, 'fasta'))\n",
    "    transition_transversion(s1.seq, s2.seq)"
   ]
  },
  {
   "cell_type": "code",
   "execution_count": null,
   "metadata": {},
   "outputs": [],
   "source": []
  }
 ],
 "metadata": {
  "interpreter": {
   "hash": "60e0f06e9c19250195fd113ab3ae6c151ef4fe60d8fc1c24602aafeb11dae2b6"
  },
  "kernelspec": {
   "display_name": "Python 3.9.7 ('base')",
   "language": "python",
   "name": "python3"
  },
  "language_info": {
   "codemirror_mode": {
    "name": "ipython",
    "version": 3
   },
   "file_extension": ".py",
   "mimetype": "text/x-python",
   "name": "python",
   "nbconvert_exporter": "python",
   "pygments_lexer": "ipython3",
   "version": "3.9.7"
  },
  "orig_nbformat": 4
 },
 "nbformat": 4,
 "nbformat_minor": 2
}
