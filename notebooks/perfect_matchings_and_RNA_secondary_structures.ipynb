{
 "cells": [
  {
   "cell_type": "code",
   "execution_count": 17,
   "metadata": {},
   "outputs": [],
   "source": [
    "import sys\n",
    "sys.path.append('..')\n",
    "from rosalind_tools.config import *\n",
    "from Bio import SeqIO"
   ]
  },
  {
   "cell_type": "markdown",
   "metadata": {},
   "source": [
    "# Perfect Matchings and RNA Secondary Structures\n",
    "Given: An RNA string s of length at most 80 bp having the same number of occurrences of 'A' as 'U' and the same number of occurrences of 'C' as 'G'.  \n",
    "  \n",
    "Return: The total possible number of perfect matchings of basepair edges in the bonding graph of s.  \n"
   ]
  },
  {
   "cell_type": "code",
   "execution_count": 18,
   "metadata": {},
   "outputs": [],
   "source": [
    "def perfect_matchings(s):\n",
    "    base_pairs={\n",
    "        'A': 'U',\n",
    "        'G': 'C',\n",
    "        'U': 'A',\n",
    "        'C': 'G'\n",
    "    }\n",
    "    if len(s) == 2:\n",
    "        return 1\n",
    "    else:\n",
    "        match = base_pairs[s[0]]\n",
    "        n = s.count(match, 1)\n",
    "        return n * perfect_matchings(s.replace(match,\"\", 1)[1:])"
   ]
  },
  {
   "cell_type": "markdown",
   "metadata": {},
   "source": [
    "### Sample Dataset\n",
    "\\>Rosalind_23  \n",
    "AGCUAGUCAU  \n",
    "\n",
    "### Sample Output\n",
    "12  \n"
   ]
  },
  {
   "cell_type": "code",
   "execution_count": 19,
   "metadata": {},
   "outputs": [
    {
     "name": "stdout",
     "output_type": "stream",
     "text": [
      "12\n"
     ]
    }
   ],
   "source": [
    "# Try sample dataset\n",
    "s = 'AGCUAGUCAU'\n",
    "print(perfect_matchings(s))"
   ]
  },
  {
   "cell_type": "code",
   "execution_count": 22,
   "metadata": {},
   "outputs": [
    {
     "name": "stdout",
     "output_type": "stream",
     "text": [
      "865352658097942644066877440000000\n"
     ]
    }
   ],
   "source": [
    "# Try Rosalind dataset\n",
    "with open(data_dir/'rosalind_pmch.txt', 'r') as f:\n",
    "    record = SeqIO.read(f, 'fasta')\n",
    "    print(perfect_matchings(str(record.seq)))"
   ]
  },
  {
   "cell_type": "code",
   "execution_count": null,
   "metadata": {},
   "outputs": [],
   "source": []
  }
 ],
 "metadata": {
  "interpreter": {
   "hash": "60e0f06e9c19250195fd113ab3ae6c151ef4fe60d8fc1c24602aafeb11dae2b6"
  },
  "kernelspec": {
   "display_name": "Python 3.9.5 64-bit ('base': conda)",
   "language": "python",
   "name": "python3"
  },
  "language_info": {
   "codemirror_mode": {
    "name": "ipython",
    "version": 3
   },
   "file_extension": ".py",
   "mimetype": "text/x-python",
   "name": "python",
   "nbconvert_exporter": "python",
   "pygments_lexer": "ipython3",
   "version": "3.9.5"
  },
  "orig_nbformat": 4
 },
 "nbformat": 4,
 "nbformat_minor": 2
}
