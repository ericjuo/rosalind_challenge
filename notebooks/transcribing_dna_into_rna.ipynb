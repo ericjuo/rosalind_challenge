{
 "cells": [
  {
   "cell_type": "code",
   "execution_count": 2,
   "metadata": {},
   "outputs": [],
   "source": [
    "import sys\n",
    "sys.path.append(\"..\")\n",
    "from rosalind_tools.config import *"
   ]
  },
  {
   "cell_type": "markdown",
   "metadata": {},
   "source": [
    "Given: A DNA string t having length at most 1000 nt.  \n",
    "\n",
    "Return: The transcribed RNA string of t."
   ]
  },
  {
   "cell_type": "code",
   "execution_count": 11,
   "metadata": {},
   "outputs": [],
   "source": [
    "def dir_transcribe(t: str) -> str:\n",
    "    t.upper() #Convert nucleobases to uppercase\n",
    "    if 'U' in t:\n",
    "        print('The input is an RNA sequence')\n",
    "        return\n",
    "    else:\n",
    "        print(t.replace('T', 'U'))\n",
    "    "
   ]
  },
  {
   "cell_type": "code",
   "execution_count": 12,
   "metadata": {},
   "outputs": [
    {
     "name": "stdout",
     "output_type": "stream",
     "text": [
      "GAUGGAACUUGACUACGUAAAUU\n"
     ]
    }
   ],
   "source": [
    "# Try sample dataset\n",
    "t = 'GATGGAACTTGACTACGTAAATT'\n",
    "dir_transcribe(t)"
   ]
  },
  {
   "cell_type": "code",
   "execution_count": 13,
   "metadata": {},
   "outputs": [
    {
     "name": "stdout",
     "output_type": "stream",
     "text": [
      "AGCCCCUGCGAGGAAACCGAUUUCGGAAUCACGAUCUCAUAAGUUAACCACGGAUACUGGCGGUAAAAGAGCCGACCUAUUGGGCCUUUGGGUAUGUUCCUCCCCGUGCUAACCAAUACGGUCCACGGCUACUAGUCCUCUCUUUGCGAAUUUUUGGGCGAAUAGCGCCGACUAUAUGGUAGUUCACGCUUCACUGCCGUCAACCAUUCAGAUCGACCCGAUAAGAGGAAAACUGUAUUAGACAUUACUUUGACAUAACCUUGCUCCAAGUAGGGCCUUGGAGAUGUUUCAGAGCCCACCAGGCUCCCUCUACACGUGGCUGGAGAAGGCCUCACACCAGCCUACACUGCACUUCCACUAUUUCCCCUUUCCUAACUAACAUUACGGCAGACGUUAUUAAGCGGUCCUCUCGAAGGAUGCGUGAUGGGGUACUUUCGAUCCGCCCAUCAUACGUGCAUGGUCGCGUCGUCAUAACGCGAUUGAAUAAGAUCCAGAAUCAAAUAUUUGCCCAUUCCUAGGACACAUGGACGCGUACAUCUACGCAAGUCGGUUCAAUACUAUCUCUACAGGUGAUCGUCGAAUUCCUUAAUCAAUCCGUUUCAUUUCAUCAUUCAGCCGUGAUGUGACCUACCACGGCGACACAUGGUUCGGGGAAAGCGACCAAAGCAACAACACCGACAAGAGAUCAUAAGUCUAAUUGCUGAUGUCCAAUAUAGUCCCCCCCCCUGAGGCCAAUCCACGAAUGUUCUUGAUGCAUGGACCUGCCAUACUCAUGGCUGGGCGUCAAAUUCUUCGGUCACCCCUAGUUACAUAUGCGCUCACAUCUUAUCUAGGCCCCUCGCACCAGUGCAUUGUCUUAUCGACGAGCAGAUUGGACCGAGUCGGCCUUACAAAGAUGACAAACCAGUAACAACAAUGGCUAAUCCGGAUCGGU\n",
      "\n"
     ]
    }
   ],
   "source": [
    "# Try Rosalind dataset\n",
    "with open(data_dir/'rosalind_rna.txt') as f:\n",
    "    t = f.read()\n",
    "    dir_transcribe(t)"
   ]
  },
  {
   "cell_type": "code",
   "execution_count": null,
   "metadata": {},
   "outputs": [],
   "source": []
  }
 ],
 "metadata": {
  "kernelspec": {
   "display_name": "Python 3",
   "language": "python",
   "name": "python3"
  },
  "language_info": {
   "codemirror_mode": {
    "name": "ipython",
    "version": 3
   },
   "file_extension": ".py",
   "mimetype": "text/x-python",
   "name": "python",
   "nbconvert_exporter": "python",
   "pygments_lexer": "ipython3",
   "version": "3.7.4"
  }
 },
 "nbformat": 4,
 "nbformat_minor": 4
}
