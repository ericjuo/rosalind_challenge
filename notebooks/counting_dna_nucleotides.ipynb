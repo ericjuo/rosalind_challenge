{
 "cells": [
  {
   "cell_type": "code",
   "execution_count": 21,
   "metadata": {},
   "outputs": [],
   "source": [
    "import sys\n",
    "sys.path.append(\"..\")\n",
    "from rosalind_tools.config import *\n",
    "from collections import Counter"
   ]
  },
  {
   "cell_type": "markdown",
   "metadata": {},
   "source": [
    "Given: A DNA string s of length at most 1000 nt.  \n",
    "Return: Four integers (sparated by spaces) counting the respective number of times that the symbols 'A', 'C', 'G', 'T' occur in s."
   ]
  },
  {
   "cell_type": "code",
   "execution_count": 25,
   "metadata": {},
   "outputs": [],
   "source": [
    "def nucleobase_counter(s:str) -> str:\n",
    "    s = s.upper() # Convert nucleobase to uppercase\n",
    "    if 'U' in s: # If the sequence contains 'U', it's an RNA sequence\n",
    "        print('The input is an RNA sequence')\n",
    "        return\n",
    "    else:\n",
    "        nucleobases = Counter(s) # Count numbers of 'A','C','G','T' in the DNA sequences\n",
    "        print('%d %d %d %d' % (nucleobases['A'], nucleobases['C'], nucleobases['G'], nucleobases['T']))\n",
    "        return\n",
    "    "
   ]
  },
  {
   "cell_type": "code",
   "execution_count": 26,
   "metadata": {},
   "outputs": [
    {
     "name": "stdout",
     "output_type": "stream",
     "text": [
      "20 12 17 21\n"
     ]
    }
   ],
   "source": [
    "# Try Sample Dataset\n",
    "s = 'AGCTTTTCATTCTGACTGCAACGGGCAATATGTCTCTGTGTGGATTAAAAAAAGAGTGTCTGATAGCAGC'\n",
    "nucleobase_counter(s)"
   ]
  },
  {
   "cell_type": "code",
   "execution_count": 27,
   "metadata": {},
   "outputs": [
    {
     "name": "stdout",
     "output_type": "stream",
     "text": [
      "218 191 192 203\n"
     ]
    }
   ],
   "source": [
    "data_file = data_dir/'rosalind_dna.txt'\n",
    "with open(data_file) as f:\n",
    "    s = f.read()\n",
    "    nucleobase_counter(s)"
   ]
  },
  {
   "cell_type": "code",
   "execution_count": null,
   "metadata": {},
   "outputs": [],
   "source": []
  }
 ],
 "metadata": {
  "kernelspec": {
   "display_name": "Python 3",
   "language": "python",
   "name": "python3"
  },
  "language_info": {
   "codemirror_mode": {
    "name": "ipython",
    "version": 3
   },
   "file_extension": ".py",
   "mimetype": "text/x-python",
   "name": "python",
   "nbconvert_exporter": "python",
   "pygments_lexer": "ipython3",
   "version": "3.7.4"
  }
 },
 "nbformat": 4,
 "nbformat_minor": 4
}
