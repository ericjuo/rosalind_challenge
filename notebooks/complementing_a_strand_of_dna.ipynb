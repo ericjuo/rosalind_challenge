{
 "cells": [
  {
   "cell_type": "code",
   "execution_count": 1,
   "metadata": {},
   "outputs": [],
   "source": [
    "import sys\n",
    "sys.path.append(\"..\")\n",
    "from rosalind_tools.config import *"
   ]
  },
  {
   "cell_type": "markdown",
   "metadata": {},
   "source": [
    "Given: A DNA string s of length at most 1000 bp.\n",
    "\n",
    "Return: The reverse complement $s^{c}$ of s."
   ]
  },
  {
   "cell_type": "code",
   "execution_count": 8,
   "metadata": {},
   "outputs": [],
   "source": [
    "def rc_DNA(s: str) -> str:\n",
    "    comp_table = {\n",
    "    'A': 'T',\n",
    "    'C': 'G',\n",
    "    'T': 'A',\n",
    "    'G': 'C'} # Create a complementary table\n",
    "    rc_s = ''.join([comp_table[i] for i in s])[::-1] # Reverse and complement the DNA sequence\n",
    "    print(rc_s)\n",
    "    return "
   ]
  },
  {
   "cell_type": "code",
   "execution_count": 9,
   "metadata": {},
   "outputs": [
    {
     "name": "stdout",
     "output_type": "stream",
     "text": [
      "ACCGGGTTTT\n"
     ]
    }
   ],
   "source": [
    "# Try Sample dataset\n",
    "s = 'AAAACCCGGT'\n",
    "rc_DNA(s)"
   ]
  },
  {
   "cell_type": "code",
   "execution_count": 11,
   "metadata": {},
   "outputs": [
    {
     "name": "stdout",
     "output_type": "stream",
     "text": [
      "TTCGAGACTGTCACACGTAAGTCATCGAGGACCAGGGAAACCTTTCACTAGAGGATGGTCCCGAGCTTGTAAGCGCTCCCCCATGAGCCTAGCCCTCAGGTCATTGTGGGACATATGTAAGCCGAACTGACCCTAGATTTATGCAAGCTTATCTCTCGGGAACCTCCGAGGTACTGTGTCGCGGGGTCTGACGAGAGCTTGCCCTCGTCGAATAGAATTATCTACCATTTATAGTCCCAGCATAGGGTGAGCGGAATAAAGATCGCTGCAACCACGGCGATGCCACACCAAAAGCTTGCGCTCCAATTTGTTGTTTCACGAAGCAAGCCGGGGGGAGAACTTTTACGGTACTTTAACCCCGGCATAGATTCTTTCGAGGCGGTATAACGTCGAGGGTGTGCCATATAAATGTTCCACTCGGCCATAAAACAGCACTCCTTCGGCCACCCCTAAGTCGCGACCTCAAAATGAACATTCGCATCTTCGTATGTATTCTCCAGACAAGGCCCAACTTTATTTACTAAAACAGGGAGGGAAGTGGACCAAGAAAGGCAAAGTTTGGAAGCCCAGCGGGCATGATGTGATACGTCCGTCATGCAGCTCCTCAAGGGGCTACTACTAATGTACCCCGGATAACGGTTGGAACTTGCTACGTGGGGGAGCTCTATAAATGATAGTCTCCGTTTGTGTACCGAGACTAAGGCCAAATAACAAGAACGGTGTAAGTCCGTGCCGTATCAGGTCCTCAGGAAGTATTTATTTAATAAGGCCACTCCAATGCGCCCGATTTTTATCTCGCAGATAAGCAATTGACAGTCGACCCATTACGCCAGATGGGCGGATTCGCTAAAATATTCGTATTGTAATACCTTGTTTTTGATAAGCATTACTCATCTACGTGACGCCTCCCAGCTTGTGGAGGATGTGGCGTGTTTTATGGCAATTCAGATTGATCGCTCCTTATAGGGGGCTTTCTAAAAGGCGTGCCATT\n"
     ]
    }
   ],
   "source": [
    "# Try Rosalind dataset\n",
    "with open(data_dir/'rosalind_revc.txt') as f:\n",
    "    s = f.read().strip()\n",
    "    rc_DNA(s)"
   ]
  },
  {
   "cell_type": "code",
   "execution_count": null,
   "metadata": {},
   "outputs": [],
   "source": []
  }
 ],
 "metadata": {
  "kernelspec": {
   "display_name": "Python 3",
   "language": "python",
   "name": "python3"
  },
  "language_info": {
   "codemirror_mode": {
    "name": "ipython",
    "version": 3
   },
   "file_extension": ".py",
   "mimetype": "text/x-python",
   "name": "python",
   "nbconvert_exporter": "python",
   "pygments_lexer": "ipython3",
   "version": "3.7.4"
  }
 },
 "nbformat": 4,
 "nbformat_minor": 4
}
