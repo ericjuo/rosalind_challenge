{
 "cells": [
  {
   "cell_type": "code",
   "execution_count": 26,
   "metadata": {},
   "outputs": [],
   "source": [
    "import sys\n",
    "sys.path.append('..')\n",
    "from rosalind_tools.config import *\n",
    "from collections import Counter"
   ]
  },
  {
   "cell_type": "code",
   "execution_count": 42,
   "metadata": {},
   "outputs": [],
   "source": [
    "# Create a class for sequence record so that we can quickly assesse sequence ID and sequence\n",
    "class Record:\n",
    "    def __init__(self, record):\n",
    "        self.id = record['name']\n",
    "        self.seq = record['seq']\n",
    "\n",
    "def parse_fasta(f):\n",
    "    # Create an empty list for storing records\n",
    "    records = []\n",
    "    # Set an default empty record\n",
    "    record = {\n",
    "        'name': '',\n",
    "        'seq': ''\n",
    "    }\n",
    "    # Initiate while loop\n",
    "    line = True\n",
    "    # Set default first line is not the end of record\n",
    "    end_of_record = False\n",
    "    while line:\n",
    "        # Read line by line as while loop runs, and also strip off /n at the end of each line\n",
    "        line = f.readline().strip()\n",
    "        if not line: # If line is empty, that is not False, skip this loop\n",
    "            continue\n",
    "\n",
    "        if line.startswith('>'):\n",
    "            # If we find the '>' again, that is the end of previous record, so we append the record, and then empty the record\n",
    "            if end_of_record:\n",
    "                r = Record(record)\n",
    "                records.append(r)\n",
    "                record = {\n",
    "                    'name': '',\n",
    "                    'seq': ''\n",
    "                }\n",
    "            # Set the end_of_record as True after we pass the first record name\n",
    "            end_of_record = True\n",
    "            record['name'] = line.strip('>')\n",
    "\n",
    "        else:\n",
    "            # line not startswith '>' are all sequences\n",
    "            record['seq'] += line\n",
    "    # Append the last record after the end of while loop\n",
    "    r = Record(record)\n",
    "    records.append(r)\n",
    "    return records\n",
    "\n",
    "def gc(record):\n",
    "    # Retrun GC content of record seqeunce, the number is expressed as % and rounded up to 6th decimal number\n",
    "    nb_counts = Counter(record.seq.upper())\n",
    "    return round((nb_counts['C'] + nb_counts['G']) / len(record.seq) * 100, 6)\n",
    "\n",
    "def max_gc(records):\n",
    "    # Guess the first record has the largest GC content\n",
    "    max_record = records[0]\n",
    "    # Compare GC contents of records one by one\n",
    "    for record in records:\n",
    "        if gc(record) > gc(max_record):\n",
    "            max_record = record\n",
    "    print(max_record.id)\n",
    "    print(gc(max_record))\n",
    "    return max_record"
   ]
  },
  {
   "cell_type": "code",
   "execution_count": 43,
   "metadata": {},
   "outputs": [
    {
     "name": "stdout",
     "output_type": "stream",
     "text": [
      "Rosalind_0808\n",
      "60.91954\n"
     ]
    }
   ],
   "source": [
    "with open(data_dir/'test_fasta.txt', 'r') as f:\n",
    "    records = parse_fasta(f)\n",
    "    max_gc(records)"
   ]
  },
  {
   "cell_type": "code",
   "execution_count": 44,
   "metadata": {},
   "outputs": [
    {
     "name": "stdout",
     "output_type": "stream",
     "text": [
      "Rosalind_3763\n",
      "54.807692\n"
     ]
    }
   ],
   "source": [
    "with open(data_dir/'rosalind_gc.txt', 'r') as f:\n",
    "    records = parse_fasta(f)\n",
    "    max_gc(records)"
   ]
  },
  {
   "cell_type": "code",
   "execution_count": null,
   "metadata": {},
   "outputs": [],
   "source": []
  }
 ],
 "metadata": {
  "kernelspec": {
   "display_name": "Python 3",
   "language": "python",
   "name": "python3"
  },
  "language_info": {
   "codemirror_mode": {
    "name": "ipython",
    "version": 3
   },
   "file_extension": ".py",
   "mimetype": "text/x-python",
   "name": "python",
   "nbconvert_exporter": "python",
   "pygments_lexer": "ipython3",
   "version": "3.7.4"
  }
 },
 "nbformat": 4,
 "nbformat_minor": 4
}
