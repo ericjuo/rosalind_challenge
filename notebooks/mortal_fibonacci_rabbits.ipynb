{
 "cells": [
  {
   "cell_type": "code",
   "execution_count": 1,
   "metadata": {},
   "outputs": [],
   "source": [
    "import sys\n",
    "sys.path.append(\"..\")\n",
    "from rosalind_tools.config import *\n"
   ]
  },
  {
   "cell_type": "markdown",
   "metadata": {},
   "source": [
    "Given: Positive integers n≤100 and m≤20.\n",
    "\n",
    "Return: The total number of pairs of rabbits that will remain after the n-th month if all rabbits live for m months."
   ]
  },
  {
   "cell_type": "code",
   "execution_count": 3,
   "metadata": {},
   "outputs": [],
   "source": [
    "def mortal_rabbits(n, m):\n",
    "    # Create a list tracking rabbit of age 0, 1, ..., m\n",
    "    rabbit_age = [0] * m\n",
    "    rabbit_age[0] = 1\n",
    "    if n == 1:\n",
    "        return rabbit_age[0]\n",
    "    for i in range(n - 1):\n",
    "        # The number of newborn rabbits are equal to the sum of rabbits aged greater than 1 month\n",
    "        rabbit_age.insert(0, sum(rabbit_age[1:]))\n",
    "        # After m months, the oldest rabbits died\n",
    "        rabbit_age.pop()\n",
    "    # The total number of rabbit at n month is equal to the sum of rabbits of all ages\n",
    "    num_rabbits = sum(rabbit_age)\n",
    "    print(num_rabbits)\n",
    "    return\n",
    "        "
   ]
  },
  {
   "cell_type": "code",
   "execution_count": 4,
   "metadata": {},
   "outputs": [
    {
     "name": "stdout",
     "output_type": "stream",
     "text": [
      "4\n"
     ]
    }
   ],
   "source": [
    "# Try sample dataset\n",
    "n = 6\n",
    "m = 3\n",
    "mortal_rabbits(n, m)"
   ]
  },
  {
   "cell_type": "code",
   "execution_count": 6,
   "metadata": {},
   "outputs": [
    {
     "name": "stdout",
     "output_type": "stream",
     "text": [
      "31746005499562581706\n"
     ]
    }
   ],
   "source": [
    "# Try Rosalind dataset\n",
    "with open(data_dir/\"rosalind_fibd.txt\", 'r') as f:\n",
    "    (n, m) = tuple(f.readline().rstrip().split())\n",
    "    mortal_rabbits(int(n), int(m))"
   ]
  },
  {
   "cell_type": "code",
   "execution_count": null,
   "metadata": {},
   "outputs": [],
   "source": []
  }
 ],
 "metadata": {
  "kernelspec": {
   "display_name": "Python 3",
   "language": "python",
   "name": "python3"
  },
  "language_info": {
   "codemirror_mode": {
    "name": "ipython",
    "version": 3
   },
   "file_extension": ".py",
   "mimetype": "text/x-python",
   "name": "python",
   "nbconvert_exporter": "python",
   "pygments_lexer": "ipython3",
   "version": "3.7.4"
  }
 },
 "nbformat": 4,
 "nbformat_minor": 4
}
