{
 "cells": [
  {
   "cell_type": "code",
   "execution_count": 3,
   "metadata": {},
   "outputs": [],
   "source": [
    "import sys\n",
    "sys.path.append(\"..\")\n",
    "from rosalind_tools.config import *\n",
    "from rosalind_tools.utils import parse_fasta, Record\n",
    "from typing import List"
   ]
  },
  {
   "cell_type": "markdown",
   "metadata": {},
   "source": [
    "Given: A collection of k (k≤100) DNA strings of length at most 1 kbp each in FASTA format.\n",
    "\n",
    "Return: A longest common substring of the collection. (If multiple solutions exist, you may return any single solution.)  "
   ]
  },
  {
   "cell_type": "code",
   "execution_count": 29,
   "metadata": {},
   "outputs": [],
   "source": [
    "def shared_motif(records: List[Record]) -> str:\n",
    "    # Start with shortest sequence\n",
    "    shortest_seq = min([r.seq for r in records], key=len)\n",
    "    l = len(shortest_seq)\n",
    "    shared_string = ''\n",
    "    # Slice sequences with index i and j\n",
    "    for i in range(l):\n",
    "        for j in range(i + 1, l + 1):\n",
    "            substring = shortest_seq[i:j]\n",
    "            # Check matches through all records in the list\n",
    "            for k in range(len(records)):\n",
    "                if substring not in records[k].seq:\n",
    "                    break\n",
    "            # If loop ends completely, it indicates that find matches in all records\n",
    "            else:\n",
    "                # Update longest common string if longer common string is found\n",
    "                if len(substring) > len(shared_string):\n",
    "                    shared_string = substring\n",
    "            \n",
    "    print(shared_string)\n",
    "    return shared_string\n",
    "            \n",
    "            \n",
    "        "
   ]
  },
  {
   "cell_type": "code",
   "execution_count": 30,
   "metadata": {},
   "outputs": [
    {
     "name": "stdout",
     "output_type": "stream",
     "text": [
      "TA\n"
     ]
    }
   ],
   "source": [
    "with open(data_dir/\"test_fasta4.txt\", 'r') as f:\n",
    "    records = parse_fasta(f)\n",
    "    shared_motif(records)"
   ]
  },
  {
   "cell_type": "code",
   "execution_count": 31,
   "metadata": {},
   "outputs": [
    {
     "name": "stdout",
     "output_type": "stream",
     "text": [
      "TGGGTTATCAATTTTTCATCACAGTTAACCGGGAGTGATCGTGCCCTACGCTCAGATGCTATTCCGGGTCATGACGTTGTGCCGGACCAGTGCGATGAAATGA\n"
     ]
    }
   ],
   "source": [
    "with open(data_dir/\"rosalind_lcsm.txt\", 'r') as f:\n",
    "    records = parse_fasta(f)\n",
    "    shared_motif(records)"
   ]
  },
  {
   "cell_type": "markdown",
   "metadata": {},
   "source": [
    "Current method is using naive exact matching algorithm. It may be imporved with more efficient string search algorithm such as Boyer-Moore algorithm."
   ]
  }
 ],
 "metadata": {
  "kernelspec": {
   "display_name": "Python 3",
   "language": "python",
   "name": "python3"
  },
  "language_info": {
   "codemirror_mode": {
    "name": "ipython",
    "version": 3
   },
   "file_extension": ".py",
   "mimetype": "text/x-python",
   "name": "python",
   "nbconvert_exporter": "python",
   "pygments_lexer": "ipython3",
   "version": "3.7.4"
  }
 },
 "nbformat": 4,
 "nbformat_minor": 4
}
