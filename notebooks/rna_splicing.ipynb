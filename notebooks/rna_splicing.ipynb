{
 "cells": [
  {
   "cell_type": "code",
   "execution_count": 5,
   "metadata": {},
   "outputs": [],
   "source": [
    "import sys\n",
    "sys.path.append(\"..\")\n",
    "from rosalind_tools.config import *\n",
    "from rosalind_tools.utils import translation, Record, parse_fasta\n",
    "from typing import List"
   ]
  },
  {
   "cell_type": "markdown",
   "metadata": {},
   "source": [
    "Given: A DNA string s (of length at most 1 kbp) and a collection of substrings of s acting as introns. All strings are given in FASTA format.\n",
    "\n",
    "Return: A protein string resulting from transcribing and translating the exons of s. (Note: Only one solution will exist for the dataset provided.)  \n"
   ]
  },
  {
   "cell_type": "code",
   "execution_count": 8,
   "metadata": {},
   "outputs": [],
   "source": [
    "def rna_splicing(records: List[Record]) -> str:\n",
    "    dna_seq = records[0].seq\n",
    "    for i in range(1, len(records)):\n",
    "        # Remove introns from the main sequence\n",
    "        dna_seq = dna_seq.replace(records[i].seq, '')\n",
    "    print(translation(dna_seq))"
   ]
  },
  {
   "cell_type": "code",
   "execution_count": 6,
   "metadata": {},
   "outputs": [
    {
     "name": "stdout",
     "output_type": "stream",
     "text": [
      "MVYIADKQHVASREAYGHMFKVCA\n"
     ]
    }
   ],
   "source": [
    "with open(data_dir/\"test_fasta5.txt\", 'r') as f:\n",
    "    records = parse_fasta(f)\n",
    "    rna_splicing(records)"
   ]
  },
  {
   "cell_type": "code",
   "execution_count": 7,
   "metadata": {},
   "outputs": [
    {
     "name": "stdout",
     "output_type": "stream",
     "text": [
      "MGCYVVSVRWGTCYGNDEVAPHPKLAHATHWVVSSTLKAQPTIKDVKGLMSPLNKPTQVRRPWTAPAAYLLFASAKITRETVHTCLRRLLDNSTTILQELLFDLPIHTKRSILMRSCSVQFRSSRPKAAPTYGPNVHKDLIAIHLPGSLFGVPGRSQLLASLIHRIWGLRGTATLSTAIEACSFVQPSTLRGTIL\n"
     ]
    }
   ],
   "source": [
    "with open(data_dir/\"rosalind_splc.txt\", 'r') as f:\n",
    "    records = parse_fasta(f)\n",
    "    rna_splicing(records)"
   ]
  },
  {
   "cell_type": "code",
   "execution_count": null,
   "metadata": {},
   "outputs": [],
   "source": []
  }
 ],
 "metadata": {
  "kernelspec": {
   "display_name": "Python 3",
   "language": "python",
   "name": "python3"
  },
  "language_info": {
   "codemirror_mode": {
    "name": "ipython",
    "version": 3
   },
   "file_extension": ".py",
   "mimetype": "text/x-python",
   "name": "python",
   "nbconvert_exporter": "python",
   "pygments_lexer": "ipython3",
   "version": "3.7.4"
  }
 },
 "nbformat": 4,
 "nbformat_minor": 4
}
