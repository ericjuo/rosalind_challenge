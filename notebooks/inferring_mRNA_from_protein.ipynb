{
 "cells": [
  {
   "cell_type": "code",
   "execution_count": 23,
   "metadata": {},
   "outputs": [],
   "source": [
    "import sys\n",
    "sys.path.append(\"..\")\n",
    "from rosalind_tools.config import *\n",
    "from Bio.Data import CodonTable\n",
    "from collections import Counter"
   ]
  },
  {
   "cell_type": "markdown",
   "metadata": {},
   "source": [
    "Given: A protein string of length at most 1000 aa.\n",
    "\n",
    "Return: The total number of different RNA strings from which the protein could have been translated, modulo 1,000,000. (Don't neglect the importance of the stop codon in protein translation.)  \n"
   ]
  },
  {
   "cell_type": "code",
   "execution_count": 38,
   "metadata": {},
   "outputs": [],
   "source": [
    "def num_rna_strings(protein_seq: str) -> int:\n",
    "    rna_table = CodonTable.standard_rna_table.forward_table\n",
    "    # Count the codons corresponding to the amino acids\n",
    "    num_codon_per_aa = Counter(rna_table.values())\n",
    "    num_stop_codon = len(CodonTable.standard_rna_table.stop_codons)\n",
    "    # Initiate a variable storing number of combinations of condons in a rna string \n",
    "    num_rna_strings = num_stop_codon\n",
    "    for aa in protein_seq:\n",
    "        num_rna_strings *= num_codon_per_aa[aa]\n",
    "        # Shortening the computational time processing large integer arithmetic by modulo 1,000,000\n",
    "        num_rna_strings %= 1_000_000\n",
    "    print(num_rna_strings)\n",
    "    return num_rna_strings\n"
   ]
  },
  {
   "cell_type": "code",
   "execution_count": 39,
   "metadata": {},
   "outputs": [
    {
     "name": "stdout",
     "output_type": "stream",
     "text": [
      "12\n"
     ]
    },
    {
     "data": {
      "text/plain": [
       "12"
      ]
     },
     "execution_count": 39,
     "metadata": {},
     "output_type": "execute_result"
    }
   ],
   "source": [
    "# Try sample dataset\n",
    "protein_seq = 'MA'\n",
    "num_rna_strings(protein_seq)"
   ]
  },
  {
   "cell_type": "code",
   "execution_count": 40,
   "metadata": {},
   "outputs": [
    {
     "name": "stdout",
     "output_type": "stream",
     "text": [
      "791744\n"
     ]
    }
   ],
   "source": [
    "# Try Rosalind dataset\n",
    "with open(data_dir/\"rosalind_mrna.txt\", 'r') as f:\n",
    "    protein_seq = f.read().rstrip()\n",
    "    num_rna_strings(protein_seq)"
   ]
  },
  {
   "cell_type": "code",
   "execution_count": null,
   "metadata": {},
   "outputs": [],
   "source": []
  }
 ],
 "metadata": {
  "kernelspec": {
   "display_name": "Python 3",
   "language": "python",
   "name": "python3"
  },
  "language_info": {
   "codemirror_mode": {
    "name": "ipython",
    "version": 3
   },
   "file_extension": ".py",
   "mimetype": "text/x-python",
   "name": "python",
   "nbconvert_exporter": "python",
   "pygments_lexer": "ipython3",
   "version": "3.7.4"
  }
 },
 "nbformat": 4,
 "nbformat_minor": 4
}
