{
 "cells": [
  {
   "cell_type": "markdown",
   "metadata": {},
   "source": [
    "Given: A DNA string s of length at most 100 bp and an array A containing at most 20 numbers between 0 and 1.  \n",
    "\n",
    "Return: An array B having the same length as A in which B[k] represents the common logarithm of the probability that a random string constructed with the GC-content found in A[k] will match s exactly.  "
   ]
  },
  {
   "cell_type": "code",
   "execution_count": 19,
   "metadata": {},
   "outputs": [],
   "source": [
    "import math\n",
    "import sys\n",
    "sys.path.append(\"..\")\n",
    "from rosalind_tools.config import *\n",
    "\n",
    "def random_strings(s, a):\n",
    "    # initiate an empty list storing array B\n",
    "    b = []\n",
    "    for gc in a:\n",
    "        # probability of G or C\n",
    "        ratio_g = gc / 2\n",
    "        # probability of A or T\n",
    "        ratio_a = (1 - gc) / 2\n",
    "        # set default probability to 1 (100%), the logarithm value would be 0\n",
    "        prob = math.log10(1)\n",
    "        assert prob == 0\n",
    "        for aa in s:\n",
    "            if aa in [\"A\", \"T\"]:\n",
    "                prob += math.log10(ratio_a)\n",
    "            else:\n",
    "                prob += math.log10(ratio_g)\n",
    "        # round the probability to the third decimal place\n",
    "        b.append(round(prob, 3))\n",
    "    # transforms float values to strings\n",
    "    b = [str(f) for f in b]\n",
    "    return b\n",
    "\n"
   ]
  },
  {
   "cell_type": "code",
   "execution_count": 20,
   "metadata": {},
   "outputs": [
    {
     "name": "stdout",
     "output_type": "stream",
     "text": [
      "-5.737 -5.217 -5.263 -5.36 -5.958 -6.628 -7.009\n"
     ]
    }
   ],
   "source": [
    "#Try sample dataset\n",
    "s = 'ACGATACAA'\n",
    "a = [0.129, 0.287, 0.423, 0.476, 0.641, 0.742, 0.783]\n",
    "b = random_strings(s, a)\n",
    "print(\" \".join(b))\n"
   ]
  },
  {
   "cell_type": "code",
   "execution_count": 21,
   "metadata": {},
   "outputs": [
    {
     "name": "stdout",
     "output_type": "stream",
     "text": [
      "-83.602 -71.964 -64.291 -60.394 -56.923 -55.648 -55.021 -54.788 -54.95 -55.387 -57.12 -60.337 -62.402 -70.835 -78.42\n"
     ]
    }
   ],
   "source": [
    "# Try rosalind dataset\n",
    "with open(data_dir/\"rosalind_prob.txt\", 'r') as f:\n",
    "    s = f.readline().rstrip()\n",
    "    a = [float(d) for d in f.readline().rstrip().split()]\n",
    "    b = random_strings(s, a)\n",
    "    print(\" \".join(b))\n",
    "\n"
   ]
  },
  {
   "cell_type": "code",
   "execution_count": null,
   "metadata": {},
   "outputs": [],
   "source": []
  }
 ],
 "metadata": {
  "interpreter": {
   "hash": "60e0f06e9c19250195fd113ab3ae6c151ef4fe60d8fc1c24602aafeb11dae2b6"
  },
  "kernelspec": {
   "display_name": "Python 3.9.5 ('base')",
   "language": "python",
   "name": "python3"
  },
  "language_info": {
   "codemirror_mode": {
    "name": "ipython",
    "version": 3
   },
   "file_extension": ".py",
   "mimetype": "text/x-python",
   "name": "python",
   "nbconvert_exporter": "python",
   "pygments_lexer": "ipython3",
   "version": "3.9.5"
  },
  "orig_nbformat": 4
 },
 "nbformat": 4,
 "nbformat_minor": 2
}
